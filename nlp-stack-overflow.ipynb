{
 "cells": [
  {
   "cell_type": "code",
   "execution_count": null,
   "metadata": {
    "collapsed": true
   },
   "outputs": [],
   "source": [
    "https://archive.org/details/stackexchange"
   ]
  },
  {
   "cell_type": "code",
   "execution_count": 4,
   "metadata": {
    "collapsed": true
   },
   "outputs": [],
   "source": [
    "import xmltodict"
   ]
  },
  {
   "cell_type": "code",
   "execution_count": 9,
   "metadata": {
    "collapsed": true
   },
   "outputs": [],
   "source": [
    "fname = 'stats.stackexchange.com/Posts.xml'"
   ]
  },
  {
   "cell_type": "code",
   "execution_count": 5,
   "metadata": {
    "collapsed": true
   },
   "outputs": [],
   "source": [
    "import xml.etree.ElementTree\n",
    "e = xml.etree.ElementTree.parse('stats.stackexchange.com/Posts.xml').getroot()"
   ]
  },
  {
   "cell_type": "code",
   "execution_count": 10,
   "metadata": {
    "collapsed": true
   },
   "outputs": [],
   "source": [
    "document_file = open(fname, \"r\")\n",
    "original_doc = document_file.read()\n",
    "document = xmltodict.parse(original_doc)"
   ]
  },
  {
   "cell_type": "code",
   "execution_count": 16,
   "metadata": {},
   "outputs": [
    {
     "data": {
      "text/plain": [
       "OrderedDict([('@Id', '1'),\n",
       "             ('@PostTypeId', '1'),\n",
       "             ('@AcceptedAnswerId', '15'),\n",
       "             ('@CreationDate', '2010-07-19T19:12:12.510'),\n",
       "             ('@Score', '36'),\n",
       "             ('@ViewCount', '2475'),\n",
       "             ('@Body',\n",
       "              '<p>How should I elicit prior distributions from experts when fitting a Bayesian model?</p>\\n'),\n",
       "             ('@OwnerUserId', '8'),\n",
       "             ('@LastActivityDate', '2010-09-15T21:08:26.077'),\n",
       "             ('@Title', 'Eliciting priors from experts'),\n",
       "             ('@Tags', '<bayesian><prior><elicitation>'),\n",
       "             ('@AnswerCount', '5'),\n",
       "             ('@CommentCount', '1'),\n",
       "             ('@FavoriteCount', '23')])"
      ]
     },
     "execution_count": 16,
     "metadata": {},
     "output_type": "execute_result"
    }
   ],
   "source": [
    "document['posts']['row'][0]"
   ]
  }
 ],
 "metadata": {
  "kernelspec": {
   "display_name": "Python 3",
   "language": "python",
   "name": "python3"
  },
  "language_info": {
   "codemirror_mode": {
    "name": "ipython",
    "version": 3
   },
   "file_extension": ".py",
   "mimetype": "text/x-python",
   "name": "python",
   "nbconvert_exporter": "python",
   "pygments_lexer": "ipython3",
   "version": "3.5.2"
  }
 },
 "nbformat": 4,
 "nbformat_minor": 2
}
