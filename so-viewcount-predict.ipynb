{
 "cells": [
  {
   "cell_type": "markdown",
   "metadata": {},
   "source": [
    "## Data Source / Following Along"
   ]
  },
  {
   "cell_type": "markdown",
   "metadata": {
    "collapsed": true
   },
   "source": [
    "https://archive.org/details/stackexchange"
   ]
  },
  {
   "cell_type": "markdown",
   "metadata": {},
   "source": [
    "https://github.com/data-skeptic/feature-engineering-training"
   ]
  },
  {
   "cell_type": "markdown",
   "metadata": {},
   "source": [
    "https://s3.amazonaws.com/dataskeptic-static/farcon/Posts.xml"
   ]
  },
  {
   "cell_type": "markdown",
   "metadata": {},
   "source": [
    "# Loading our data to a dataframe"
   ]
  },
  {
   "cell_type": "code",
   "execution_count": 1,
   "metadata": {
    "collapsed": true
   },
   "outputs": [],
   "source": [
    "%matplotlib inline\n",
    "import matplotlib.pyplot as plt\n",
    "import xmltodict\n",
    "import pandas as pd\n",
    "import datetime\n",
    "import bleach\n",
    "import itertools\n",
    "import math\n",
    "import numpy as np\n",
    "from sklearn.ensemble import RandomForestClassifier\n",
    "from sklearn.metrics import confusion_matrix\n",
    "from sklearn.model_selection import KFold\n",
    "from scipy.stats.stats import pearsonr"
   ]
  },
  {
   "cell_type": "code",
   "execution_count": 2,
   "metadata": {
    "collapsed": true
   },
   "outputs": [],
   "source": [
    "fname = 'stats.stackexchange.com/Posts.xml'"
   ]
  },
  {
   "cell_type": "code",
   "execution_count": 3,
   "metadata": {
    "collapsed": true
   },
   "outputs": [],
   "source": [
    "import xml.etree.ElementTree\n",
    "e = xml.etree.ElementTree.parse('stats.stackexchange.com/Posts.xml').getroot()"
   ]
  },
  {
   "cell_type": "code",
   "execution_count": 4,
   "metadata": {
    "collapsed": true
   },
   "outputs": [],
   "source": [
    "document_file = open(fname, \"r\")\n",
    "original_doc = document_file.read()\n",
    "document = xmltodict.parse(original_doc)"
   ]
  },
  {
   "cell_type": "code",
   "execution_count": 5,
   "metadata": {
    "collapsed": true
   },
   "outputs": [],
   "source": [
    "df = pd.DataFrame(document['posts']['row'])"
   ]
  },
  {
   "cell_type": "code",
   "execution_count": 6,
   "metadata": {
    "collapsed": true
   },
   "outputs": [],
   "source": [
    "df.columns = list(map(lambda x: x.replace('@', ''), df.columns))"
   ]
  },
  {
   "cell_type": "code",
   "execution_count": 7,
   "metadata": {
    "collapsed": true
   },
   "outputs": [],
   "source": [
    "pd.options.display.max_columns = 999"
   ]
  },
  {
   "cell_type": "code",
   "execution_count": 8,
   "metadata": {},
   "outputs": [
    {
     "data": {
      "text/html": [
       "<div>\n",
       "<style>\n",
       "    .dataframe thead tr:only-child th {\n",
       "        text-align: right;\n",
       "    }\n",
       "\n",
       "    .dataframe thead th {\n",
       "        text-align: left;\n",
       "    }\n",
       "\n",
       "    .dataframe tbody tr th {\n",
       "        vertical-align: top;\n",
       "    }\n",
       "</style>\n",
       "<table border=\"1\" class=\"dataframe\">\n",
       "  <thead>\n",
       "    <tr style=\"text-align: right;\">\n",
       "      <th></th>\n",
       "      <th>Id</th>\n",
       "      <th>PostTypeId</th>\n",
       "      <th>AcceptedAnswerId</th>\n",
       "      <th>CreationDate</th>\n",
       "      <th>Score</th>\n",
       "      <th>ViewCount</th>\n",
       "      <th>Body</th>\n",
       "      <th>OwnerUserId</th>\n",
       "      <th>LastActivityDate</th>\n",
       "      <th>Title</th>\n",
       "      <th>Tags</th>\n",
       "      <th>AnswerCount</th>\n",
       "      <th>CommentCount</th>\n",
       "      <th>FavoriteCount</th>\n",
       "      <th>LastEditorUserId</th>\n",
       "      <th>LastEditDate</th>\n",
       "      <th>CommunityOwnedDate</th>\n",
       "      <th>ParentId</th>\n",
       "      <th>ClosedDate</th>\n",
       "      <th>OwnerDisplayName</th>\n",
       "      <th>LastEditorDisplayName</th>\n",
       "    </tr>\n",
       "  </thead>\n",
       "  <tbody>\n",
       "    <tr>\n",
       "      <th>0</th>\n",
       "      <td>1</td>\n",
       "      <td>1</td>\n",
       "      <td>15</td>\n",
       "      <td>2010-07-19T19:12:12.510</td>\n",
       "      <td>36</td>\n",
       "      <td>2475</td>\n",
       "      <td>&lt;p&gt;How should I elicit prior distributions fro...</td>\n",
       "      <td>8</td>\n",
       "      <td>2010-09-15T21:08:26.077</td>\n",
       "      <td>Eliciting priors from experts</td>\n",
       "      <td>&lt;bayesian&gt;&lt;prior&gt;&lt;elicitation&gt;</td>\n",
       "      <td>5</td>\n",
       "      <td>1</td>\n",
       "      <td>23</td>\n",
       "      <td>NaN</td>\n",
       "      <td>NaN</td>\n",
       "      <td>NaN</td>\n",
       "      <td>NaN</td>\n",
       "      <td>NaN</td>\n",
       "      <td>NaN</td>\n",
       "      <td>NaN</td>\n",
       "    </tr>\n",
       "    <tr>\n",
       "      <th>1</th>\n",
       "      <td>2</td>\n",
       "      <td>1</td>\n",
       "      <td>59</td>\n",
       "      <td>2010-07-19T19:12:57.157</td>\n",
       "      <td>29</td>\n",
       "      <td>22817</td>\n",
       "      <td>&lt;p&gt;In many different statistical methods there...</td>\n",
       "      <td>24</td>\n",
       "      <td>2016-06-27T06:44:40.147</td>\n",
       "      <td>What is normality?</td>\n",
       "      <td>&lt;distributions&gt;&lt;normality&gt;</td>\n",
       "      <td>7</td>\n",
       "      <td>1</td>\n",
       "      <td>10</td>\n",
       "      <td>88</td>\n",
       "      <td>2010-08-07T17:56:44.800</td>\n",
       "      <td>NaN</td>\n",
       "      <td>NaN</td>\n",
       "      <td>NaN</td>\n",
       "      <td>NaN</td>\n",
       "      <td>NaN</td>\n",
       "    </tr>\n",
       "    <tr>\n",
       "      <th>2</th>\n",
       "      <td>3</td>\n",
       "      <td>1</td>\n",
       "      <td>5</td>\n",
       "      <td>2010-07-19T19:13:28.577</td>\n",
       "      <td>66</td>\n",
       "      <td>5746</td>\n",
       "      <td>&lt;p&gt;What are some valuable Statistical Analysis...</td>\n",
       "      <td>18</td>\n",
       "      <td>2013-05-27T14:48:36.927</td>\n",
       "      <td>What are some valuable Statistical Analysis op...</td>\n",
       "      <td>&lt;software&gt;&lt;open-source&gt;</td>\n",
       "      <td>19</td>\n",
       "      <td>4</td>\n",
       "      <td>39</td>\n",
       "      <td>183</td>\n",
       "      <td>2011-02-12T05:50:03.667</td>\n",
       "      <td>2010-07-19T19:13:28.577</td>\n",
       "      <td>NaN</td>\n",
       "      <td>NaN</td>\n",
       "      <td>NaN</td>\n",
       "      <td>NaN</td>\n",
       "    </tr>\n",
       "    <tr>\n",
       "      <th>3</th>\n",
       "      <td>4</td>\n",
       "      <td>1</td>\n",
       "      <td>135</td>\n",
       "      <td>2010-07-19T19:13:31.617</td>\n",
       "      <td>17</td>\n",
       "      <td>25380</td>\n",
       "      <td>&lt;p&gt;I have two groups of data.  Each with a dif...</td>\n",
       "      <td>23</td>\n",
       "      <td>2010-09-08T03:00:19.690</td>\n",
       "      <td>Assessing the significance of differences in d...</td>\n",
       "      <td>&lt;distributions&gt;&lt;statistical-significance&gt;</td>\n",
       "      <td>5</td>\n",
       "      <td>2</td>\n",
       "      <td>5</td>\n",
       "      <td>NaN</td>\n",
       "      <td>NaN</td>\n",
       "      <td>NaN</td>\n",
       "      <td>NaN</td>\n",
       "      <td>NaN</td>\n",
       "      <td>NaN</td>\n",
       "      <td>NaN</td>\n",
       "    </tr>\n",
       "    <tr>\n",
       "      <th>4</th>\n",
       "      <td>5</td>\n",
       "      <td>2</td>\n",
       "      <td>NaN</td>\n",
       "      <td>2010-07-19T19:14:43.050</td>\n",
       "      <td>86</td>\n",
       "      <td>NaN</td>\n",
       "      <td>&lt;p&gt;The R-project&lt;/p&gt;\\n\\n&lt;p&gt;&lt;a href=\"http://www...</td>\n",
       "      <td>23</td>\n",
       "      <td>2010-07-19T19:21:15.063</td>\n",
       "      <td>NaN</td>\n",
       "      <td>NaN</td>\n",
       "      <td>NaN</td>\n",
       "      <td>3</td>\n",
       "      <td>NaN</td>\n",
       "      <td>23</td>\n",
       "      <td>2010-07-19T19:21:15.063</td>\n",
       "      <td>2010-07-19T19:14:43.050</td>\n",
       "      <td>3</td>\n",
       "      <td>NaN</td>\n",
       "      <td>NaN</td>\n",
       "      <td>NaN</td>\n",
       "    </tr>\n",
       "  </tbody>\n",
       "</table>\n",
       "</div>"
      ],
      "text/plain": [
       "  Id PostTypeId AcceptedAnswerId             CreationDate Score ViewCount  \\\n",
       "0  1          1               15  2010-07-19T19:12:12.510    36      2475   \n",
       "1  2          1               59  2010-07-19T19:12:57.157    29     22817   \n",
       "2  3          1                5  2010-07-19T19:13:28.577    66      5746   \n",
       "3  4          1              135  2010-07-19T19:13:31.617    17     25380   \n",
       "4  5          2              NaN  2010-07-19T19:14:43.050    86       NaN   \n",
       "\n",
       "                                                Body OwnerUserId  \\\n",
       "0  <p>How should I elicit prior distributions fro...           8   \n",
       "1  <p>In many different statistical methods there...          24   \n",
       "2  <p>What are some valuable Statistical Analysis...          18   \n",
       "3  <p>I have two groups of data.  Each with a dif...          23   \n",
       "4  <p>The R-project</p>\\n\\n<p><a href=\"http://www...          23   \n",
       "\n",
       "          LastActivityDate                                              Title  \\\n",
       "0  2010-09-15T21:08:26.077                      Eliciting priors from experts   \n",
       "1  2016-06-27T06:44:40.147                                 What is normality?   \n",
       "2  2013-05-27T14:48:36.927  What are some valuable Statistical Analysis op...   \n",
       "3  2010-09-08T03:00:19.690  Assessing the significance of differences in d...   \n",
       "4  2010-07-19T19:21:15.063                                                NaN   \n",
       "\n",
       "                                        Tags AnswerCount CommentCount  \\\n",
       "0             <bayesian><prior><elicitation>           5            1   \n",
       "1                 <distributions><normality>           7            1   \n",
       "2                    <software><open-source>          19            4   \n",
       "3  <distributions><statistical-significance>           5            2   \n",
       "4                                        NaN         NaN            3   \n",
       "\n",
       "  FavoriteCount LastEditorUserId             LastEditDate  \\\n",
       "0            23              NaN                      NaN   \n",
       "1            10               88  2010-08-07T17:56:44.800   \n",
       "2            39              183  2011-02-12T05:50:03.667   \n",
       "3             5              NaN                      NaN   \n",
       "4           NaN               23  2010-07-19T19:21:15.063   \n",
       "\n",
       "        CommunityOwnedDate ParentId ClosedDate OwnerDisplayName  \\\n",
       "0                      NaN      NaN        NaN              NaN   \n",
       "1                      NaN      NaN        NaN              NaN   \n",
       "2  2010-07-19T19:13:28.577      NaN        NaN              NaN   \n",
       "3                      NaN      NaN        NaN              NaN   \n",
       "4  2010-07-19T19:14:43.050        3        NaN              NaN   \n",
       "\n",
       "  LastEditorDisplayName  \n",
       "0                   NaN  \n",
       "1                   NaN  \n",
       "2                   NaN  \n",
       "3                   NaN  \n",
       "4                   NaN  "
      ]
     },
     "execution_count": 8,
     "metadata": {},
     "output_type": "execute_result"
    }
   ],
   "source": [
    "df.head()"
   ]
  },
  {
   "cell_type": "markdown",
   "metadata": {},
   "source": [
    "## Data Cleaning"
   ]
  },
  {
   "cell_type": "code",
   "execution_count": 9,
   "metadata": {
    "collapsed": true
   },
   "outputs": [],
   "source": [
    "df['ViewCount'].fillna(0, inplace=True)\n",
    "df['ViewCount'] = df['ViewCount'].astype(int)\n",
    "df['Score'] = df['Score'].astype(int)\n",
    "df['CreationDate'] = pd.to_datetime(df['CreationDate'])"
   ]
  },
  {
   "cell_type": "code",
   "execution_count": 10,
   "metadata": {},
   "outputs": [
    {
     "data": {
      "text/plain": [
       "PostTypeId\n",
       "1    131\n",
       "2      0\n",
       "3      0\n",
       "4      0\n",
       "5      0\n",
       "6      0\n",
       "7      0\n",
       "Name: ViewCount, dtype: int64"
      ]
     },
     "execution_count": 10,
     "metadata": {},
     "output_type": "execute_result"
    }
   ],
   "source": [
    "df.groupby(['PostTypeId'])['ViewCount'].median()"
   ]
  },
  {
   "cell_type": "markdown",
   "metadata": {},
   "source": [
    "This field seems useless, let's get rid of it"
   ]
  },
  {
   "cell_type": "code",
   "execution_count": 11,
   "metadata": {
    "collapsed": true
   },
   "outputs": [],
   "source": [
    "del df['PostTypeId']"
   ]
  },
  {
   "cell_type": "markdown",
   "metadata": {},
   "source": [
    "## Understanding Our Objective\n",
    "We should expect that our result can be highly biased by right censorship."
   ]
  },
  {
   "cell_type": "code",
   "execution_count": 12,
   "metadata": {
    "collapsed": true
   },
   "outputs": [],
   "source": [
    "df['cdt'] = df['CreationDate'].apply(lambda x: datetime.datetime.date(x))"
   ]
  },
  {
   "cell_type": "code",
   "execution_count": 13,
   "metadata": {
    "collapsed": true
   },
   "outputs": [],
   "source": [
    "g = pd.DataFrame(df.groupby(['cdt'])['ViewCount'].mean())\n",
    "g.reset_index(inplace=True)\n",
    "g.sort_values('cdt', inplace=True)"
   ]
  },
  {
   "cell_type": "code",
   "execution_count": 14,
   "metadata": {},
   "outputs": [
    {
     "data": {
      "image/png": "[encoded data removed]",
      "text/plain": [
       "<matplotlib.figure.Figure at 0x121486e48>"
      ]
     },
     "metadata": {},
     "output_type": "display_data"
    }
   ],
   "source": [
    "plt.figure(figsize=(15,5))\n",
    "plt.plot(g['cdt'], g['ViewCount'])\n",
    "plt.show()"
   ]
  },
  {
   "cell_type": "code",
   "execution_count": 15,
   "metadata": {
    "collapsed": true
   },
   "outputs": [],
   "source": [
    "g = pd.DataFrame(df.groupby(['ViewCount'])['Id'].count())\n",
    "g.reset_index(inplace=True)\n",
    "g['ViewCount'] = g['ViewCount'].astype(int)\n",
    "g.sort_values('ViewCount', inplace=True)\n",
    "g.columns = ['ViewCount', 'frequency']"
   ]
  },
  {
   "cell_type": "code",
   "execution_count": 16,
   "metadata": {},
   "outputs": [
    {
     "data": {
      "image/png": "[encoded data removed]",
      "text/plain": [
       "<matplotlib.figure.Figure at 0x1215a29e8>"
      ]
     },
     "metadata": {},
     "output_type": "display_data"
    }
   ],
   "source": [
    "plt.figure(figsize=(15,5))\n",
    "plt.plot(g['ViewCount'][1:1000], g['frequency'][1:1000])\n",
    "plt.ylabel('Frequency')\n",
    "plt.xlabel('ViewCount')\n",
    "plt.title('Histogram of ViewCount')\n",
    "plt.show()"
   ]
  },
  {
   "cell_type": "code",
   "execution_count": 17,
   "metadata": {
    "collapsed": true
   },
   "outputs": [],
   "source": [
    "del df['cdt']"
   ]
  },
  {
   "cell_type": "markdown",
   "metadata": {},
   "source": [
    "What's up with the \"score\"?"
   ]
  },
  {
   "cell_type": "code",
   "execution_count": 18,
   "metadata": {},
   "outputs": [
    {
     "data": {
      "image/png": "[encoded data removed]",
      "text/plain": [
       "<matplotlib.figure.Figure at 0x121ca25c0>"
      ]
     },
     "metadata": {},
     "output_type": "display_data"
    }
   ],
   "source": [
    "r2 = pearsonr(df['Score'], df['ViewCount'])[0]\n",
    "plt.scatter(df['Score'], df['ViewCount'], alpha=0.05)\n",
    "plt.title(r2)\n",
    "plt.show()"
   ]
  },
  {
   "cell_type": "markdown",
   "metadata": {},
   "source": [
    "## Remove possible Leakage Features\n",
    "Let's be specific about what we want to predict.  Since our data is a snapshot in time, we can't predice \"ViewCountTomorrow\".  We should therefore predict given the merits of the question itself at the time of creation."
   ]
  },
  {
   "cell_type": "code",
   "execution_count": 19,
   "metadata": {
    "collapsed": true
   },
   "outputs": [],
   "source": [
    "leakage_features = [\n",
    "'Id','FavoriteCount','AnswerCount','CommentCount','AcceptedAnswerId'\n",
    ",'LastEditDate','CommunityOwnedDate','ParentId','ClosedDate','LastEditorDisplayName'\n",
    ",'LastActivityDate','LastEditorUserId','Score']"
   ]
  },
  {
   "cell_type": "code",
   "execution_count": 20,
   "metadata": {
    "collapsed": true
   },
   "outputs": [],
   "source": [
    "for lf in leakage_features:\n",
    "    del df[lf]"
   ]
  },
  {
   "cell_type": "markdown",
   "metadata": {},
   "source": [
    "## Tags"
   ]
  },
  {
   "cell_type": "code",
   "execution_count": 21,
   "metadata": {},
   "outputs": [
    {
     "data": {
      "text/plain": [
       "0               <bayesian><prior><elicitation>\n",
       "1                   <distributions><normality>\n",
       "2                      <software><open-source>\n",
       "3    <distributions><statistical-significance>\n",
       "4                                          NaN\n",
       "Name: Tags, dtype: object"
      ]
     },
     "execution_count": 21,
     "metadata": {},
     "output_type": "execute_result"
    }
   ],
   "source": [
    "df['Tags'].head()"
   ]
  },
  {
   "cell_type": "code",
   "execution_count": 22,
   "metadata": {
    "collapsed": true
   },
   "outputs": [],
   "source": [
    "df['Tags'].fillna('', inplace=True)"
   ]
  },
  {
   "cell_type": "markdown",
   "metadata": {},
   "source": [
    "How many types of Tags are there?"
   ]
  },
  {
   "cell_type": "code",
   "execution_count": 23,
   "metadata": {},
   "outputs": [
    {
     "data": {
      "text/plain": [
       "1330"
      ]
     },
     "execution_count": 23,
     "metadata": {},
     "output_type": "execute_result"
    }
   ],
   "source": [
    "def tag2arr(s):\n",
    "    if len(s) < 2:\n",
    "        return []\n",
    "    s = s[1:-1]\n",
    "    arr = s.split('><')\n",
    "    return arr\n",
    "\n",
    "tags = df['Tags'].apply(tag2arr)\n",
    "\n",
    "alltags = []\n",
    "for arr in tags:\n",
    "    alltags.extend(arr)\n",
    "\n",
    "len(set(alltags))"
   ]
  },
  {
   "cell_type": "markdown",
   "metadata": {},
   "source": [
    "Let's make one quick feature from the metadata"
   ]
  },
  {
   "cell_type": "code",
   "execution_count": 24,
   "metadata": {
    "collapsed": true
   },
   "outputs": [],
   "source": [
    "df['tag_count'] = tags.apply(lambda x: len(x))"
   ]
  },
  {
   "cell_type": "markdown",
   "metadata": {},
   "source": [
    "*What is the distribution of usage over these tags?*"
   ]
  },
  {
   "cell_type": "code",
   "execution_count": 25,
   "metadata": {},
   "outputs": [
    {
     "data": {
      "image/png": "[encoded data removed]",
      "text/plain": [
       "<matplotlib.figure.Figure at 0x12193d438>"
      ]
     },
     "metadata": {},
     "output_type": "display_data"
    }
   ],
   "source": [
    "dfx = pd.DataFrame(pd.Series(alltags), columns=['tag'])\n",
    "dfx['c'] = 1\n",
    "g = pd.DataFrame(dfx.groupby(['tag'])['c'].sum())\n",
    "g.reset_index(inplace=True)\n",
    "g.sort_values('c', ascending=False, inplace=True)\n",
    "g.index = np.arange(g.shape[0])\n",
    "plt.plot(g['c'])\n",
    "plt.title('Histogram of tag use')\n",
    "plt.xlabel('Popularity rank')\n",
    "plt.ylabel('Uses')\n",
    "plt.show()"
   ]
  },
  {
   "cell_type": "markdown",
   "metadata": {},
   "source": [
    "*Can we focus on just the popular ones and lump the long tail into \"Other\"?*"
   ]
  },
  {
   "cell_type": "code",
   "execution_count": 26,
   "metadata": {
    "collapsed": true
   },
   "outputs": [],
   "source": [
    "df['first_tag'] = tags.apply(lambda x: '' if len(x) == 0 else x[0])\n",
    "ft = df.groupby(['first_tag']).aggregate({'ViewCount': np.median, 'Title': len})"
   ]
  },
  {
   "cell_type": "code",
   "execution_count": 27,
   "metadata": {
    "collapsed": true
   },
   "outputs": [],
   "source": [
    "ft.columns = ['uses', 'MedianViewCount']"
   ]
  },
  {
   "cell_type": "code",
   "execution_count": 28,
   "metadata": {
    "collapsed": true
   },
   "outputs": [],
   "source": [
    "dfx = ft[ft['uses'] > 20].copy()"
   ]
  },
  {
   "cell_type": "code",
   "execution_count": 29,
   "metadata": {
    "collapsed": true
   },
   "outputs": [],
   "source": [
    "dfx.sort_values('MedianViewCount', inplace=True)\n",
    "dfx.reset_index(inplace=True)"
   ]
  },
  {
   "cell_type": "code",
   "execution_count": 30,
   "metadata": {},
   "outputs": [
    {
     "data": {
      "image/png": "[encoded data removed]",
      "text/plain": [
       "<matplotlib.figure.Figure at 0x126a6c630>"
      ]
     },
     "metadata": {},
     "output_type": "display_data"
    }
   ],
   "source": [
    "plt.plot(dfx['MedianViewCount'])\n",
    "plt.xlabel('Ordered tags')\n",
    "plt.ylabel('Median View Count')\n",
    "plt.title('First tag popularity')\n",
    "plt.show()"
   ]
  },
  {
   "cell_type": "code",
   "execution_count": 31,
   "metadata": {},
   "outputs": [
    {
     "data": {
      "text/html": [
       "<div>\n",
       "<style>\n",
       "    .dataframe thead tr:only-child th {\n",
       "        text-align: right;\n",
       "    }\n",
       "\n",
       "    .dataframe thead th {\n",
       "        text-align: left;\n",
       "    }\n",
       "\n",
       "    .dataframe tbody tr th {\n",
       "        vertical-align: top;\n",
       "    }\n",
       "</style>\n",
       "<table border=\"1\" class=\"dataframe\">\n",
       "  <thead>\n",
       "    <tr style=\"text-align: right;\">\n",
       "      <th></th>\n",
       "      <th>first_tag</th>\n",
       "      <th>uses</th>\n",
       "      <th>MedianViewCount</th>\n",
       "    </tr>\n",
       "  </thead>\n",
       "  <tbody>\n",
       "    <tr>\n",
       "      <th>242</th>\n",
       "      <td>effect-size</td>\n",
       "      <td>60</td>\n",
       "      <td>248.5</td>\n",
       "    </tr>\n",
       "    <tr>\n",
       "      <th>243</th>\n",
       "      <td>kolmogorov-smirnov</td>\n",
       "      <td>44</td>\n",
       "      <td>249.0</td>\n",
       "    </tr>\n",
       "    <tr>\n",
       "      <th>244</th>\n",
       "      <td>k-means</td>\n",
       "      <td>54</td>\n",
       "      <td>253.5</td>\n",
       "    </tr>\n",
       "    <tr>\n",
       "      <th>245</th>\n",
       "      <td>psychometrics</td>\n",
       "      <td>47</td>\n",
       "      <td>254.0</td>\n",
       "    </tr>\n",
       "    <tr>\n",
       "      <th>246</th>\n",
       "      <td>r</td>\n",
       "      <td>15943</td>\n",
       "      <td>264.0</td>\n",
       "    </tr>\n",
       "    <tr>\n",
       "      <th>247</th>\n",
       "      <td>ridge-regression</td>\n",
       "      <td>22</td>\n",
       "      <td>271.0</td>\n",
       "    </tr>\n",
       "    <tr>\n",
       "      <th>248</th>\n",
       "      <td>contingency-tables</td>\n",
       "      <td>34</td>\n",
       "      <td>277.0</td>\n",
       "    </tr>\n",
       "    <tr>\n",
       "      <th>249</th>\n",
       "      <td>scales</td>\n",
       "      <td>54</td>\n",
       "      <td>294.5</td>\n",
       "    </tr>\n",
       "    <tr>\n",
       "      <th>250</th>\n",
       "      <td>large-data</td>\n",
       "      <td>21</td>\n",
       "      <td>297.0</td>\n",
       "    </tr>\n",
       "    <tr>\n",
       "      <th>251</th>\n",
       "      <td>stata</td>\n",
       "      <td>296</td>\n",
       "      <td>303.5</td>\n",
       "    </tr>\n",
       "    <tr>\n",
       "      <th>252</th>\n",
       "      <td>svd</td>\n",
       "      <td>33</td>\n",
       "      <td>315.0</td>\n",
       "    </tr>\n",
       "    <tr>\n",
       "      <th>253</th>\n",
       "      <td>prior</td>\n",
       "      <td>29</td>\n",
       "      <td>317.0</td>\n",
       "    </tr>\n",
       "    <tr>\n",
       "      <th>254</th>\n",
       "      <td>epidemiology</td>\n",
       "      <td>51</td>\n",
       "      <td>326.0</td>\n",
       "    </tr>\n",
       "    <tr>\n",
       "      <th>255</th>\n",
       "      <td>lmer</td>\n",
       "      <td>24</td>\n",
       "      <td>329.0</td>\n",
       "    </tr>\n",
       "    <tr>\n",
       "      <th>256</th>\n",
       "      <td>spss</td>\n",
       "      <td>570</td>\n",
       "      <td>389.5</td>\n",
       "    </tr>\n",
       "    <tr>\n",
       "      <th>257</th>\n",
       "      <td>matlab</td>\n",
       "      <td>287</td>\n",
       "      <td>425.0</td>\n",
       "    </tr>\n",
       "    <tr>\n",
       "      <th>258</th>\n",
       "      <td>software</td>\n",
       "      <td>35</td>\n",
       "      <td>473.0</td>\n",
       "    </tr>\n",
       "    <tr>\n",
       "      <th>259</th>\n",
       "      <td>jags</td>\n",
       "      <td>26</td>\n",
       "      <td>514.0</td>\n",
       "    </tr>\n",
       "    <tr>\n",
       "      <th>260</th>\n",
       "      <td>excel</td>\n",
       "      <td>40</td>\n",
       "      <td>641.5</td>\n",
       "    </tr>\n",
       "    <tr>\n",
       "      <th>261</th>\n",
       "      <td>teaching</td>\n",
       "      <td>29</td>\n",
       "      <td>1154.0</td>\n",
       "    </tr>\n",
       "  </tbody>\n",
       "</table>\n",
       "</div>"
      ],
      "text/plain": [
       "              first_tag   uses  MedianViewCount\n",
       "242         effect-size     60            248.5\n",
       "243  kolmogorov-smirnov     44            249.0\n",
       "244             k-means     54            253.5\n",
       "245       psychometrics     47            254.0\n",
       "246                   r  15943            264.0\n",
       "247    ridge-regression     22            271.0\n",
       "248  contingency-tables     34            277.0\n",
       "249              scales     54            294.5\n",
       "250          large-data     21            297.0\n",
       "251               stata    296            303.5\n",
       "252                 svd     33            315.0\n",
       "253               prior     29            317.0\n",
       "254        epidemiology     51            326.0\n",
       "255                lmer     24            329.0\n",
       "256                spss    570            389.5\n",
       "257              matlab    287            425.0\n",
       "258            software     35            473.0\n",
       "259                jags     26            514.0\n",
       "260               excel     40            641.5\n",
       "261            teaching     29           1154.0"
      ]
     },
     "execution_count": 31,
     "metadata": {},
     "output_type": "execute_result"
    }
   ],
   "source": [
    "dfx.tail(20)"
   ]
  },
  {
   "cell_type": "code",
   "execution_count": 32,
   "metadata": {},
   "outputs": [
    {
     "data": {
      "text/html": [
       "<div>\n",
       "<style>\n",
       "    .dataframe thead tr:only-child th {\n",
       "        text-align: right;\n",
       "    }\n",
       "\n",
       "    .dataframe thead th {\n",
       "        text-align: left;\n",
       "    }\n",
       "\n",
       "    .dataframe tbody tr th {\n",
       "        vertical-align: top;\n",
       "    }\n",
       "</style>\n",
       "<table border=\"1\" class=\"dataframe\">\n",
       "  <thead>\n",
       "    <tr style=\"text-align: right;\">\n",
       "      <th></th>\n",
       "      <th>first_tag</th>\n",
       "      <th>uses</th>\n",
       "      <th>MedianViewCount</th>\n",
       "    </tr>\n",
       "  </thead>\n",
       "  <tbody>\n",
       "    <tr>\n",
       "      <th>0</th>\n",
       "      <td></td>\n",
       "      <td>102750</td>\n",
       "      <td>0.0</td>\n",
       "    </tr>\n",
       "    <tr>\n",
       "      <th>246</th>\n",
       "      <td>r</td>\n",
       "      <td>15943</td>\n",
       "      <td>264.0</td>\n",
       "    </tr>\n",
       "    <tr>\n",
       "      <th>162</th>\n",
       "      <td>regression</td>\n",
       "      <td>10981</td>\n",
       "      <td>124.0</td>\n",
       "    </tr>\n",
       "    <tr>\n",
       "      <th>178</th>\n",
       "      <td>machine-learning</td>\n",
       "      <td>6595</td>\n",
       "      <td>133.0</td>\n",
       "    </tr>\n",
       "    <tr>\n",
       "      <th>118</th>\n",
       "      <td>probability</td>\n",
       "      <td>4575</td>\n",
       "      <td>102.0</td>\n",
       "    </tr>\n",
       "    <tr>\n",
       "      <th>179</th>\n",
       "      <td>time-series</td>\n",
       "      <td>4553</td>\n",
       "      <td>133.0</td>\n",
       "    </tr>\n",
       "    <tr>\n",
       "      <th>117</th>\n",
       "      <td>hypothesis-testing</td>\n",
       "      <td>3599</td>\n",
       "      <td>102.0</td>\n",
       "    </tr>\n",
       "    <tr>\n",
       "      <th>166</th>\n",
       "      <td>distributions</td>\n",
       "      <td>2783</td>\n",
       "      <td>127.0</td>\n",
       "    </tr>\n",
       "    <tr>\n",
       "      <th>76</th>\n",
       "      <td>self-study</td>\n",
       "      <td>2610</td>\n",
       "      <td>87.5</td>\n",
       "    </tr>\n",
       "    <tr>\n",
       "      <th>169</th>\n",
       "      <td>correlation</td>\n",
       "      <td>2090</td>\n",
       "      <td>129.0</td>\n",
       "    </tr>\n",
       "    <tr>\n",
       "      <th>157</th>\n",
       "      <td>bayesian</td>\n",
       "      <td>2017</td>\n",
       "      <td>123.0</td>\n",
       "    </tr>\n",
       "    <tr>\n",
       "      <th>152</th>\n",
       "      <td>anova</td>\n",
       "      <td>1651</td>\n",
       "      <td>119.0</td>\n",
       "    </tr>\n",
       "    <tr>\n",
       "      <th>170</th>\n",
       "      <td>classification</td>\n",
       "      <td>1551</td>\n",
       "      <td>129.0</td>\n",
       "    </tr>\n",
       "    <tr>\n",
       "      <th>199</th>\n",
       "      <td>logistic</td>\n",
       "      <td>1547</td>\n",
       "      <td>146.0</td>\n",
       "    </tr>\n",
       "    <tr>\n",
       "      <th>66</th>\n",
       "      <td>statistical-significance</td>\n",
       "      <td>1514</td>\n",
       "      <td>82.5</td>\n",
       "    </tr>\n",
       "    <tr>\n",
       "      <th>213</th>\n",
       "      <td>clustering</td>\n",
       "      <td>1359</td>\n",
       "      <td>163.0</td>\n",
       "    </tr>\n",
       "    <tr>\n",
       "      <th>187</th>\n",
       "      <td>normal-distribution</td>\n",
       "      <td>1306</td>\n",
       "      <td>137.0</td>\n",
       "    </tr>\n",
       "    <tr>\n",
       "      <th>143</th>\n",
       "      <td>neural-networks</td>\n",
       "      <td>1160</td>\n",
       "      <td>114.0</td>\n",
       "    </tr>\n",
       "    <tr>\n",
       "      <th>177</th>\n",
       "      <td>confidence-interval</td>\n",
       "      <td>1091</td>\n",
       "      <td>133.0</td>\n",
       "    </tr>\n",
       "    <tr>\n",
       "      <th>75</th>\n",
       "      <td>mathematical-statistics</td>\n",
       "      <td>946</td>\n",
       "      <td>87.0</td>\n",
       "    </tr>\n",
       "  </tbody>\n",
       "</table>\n",
       "</div>"
      ],
      "text/plain": [
       "                    first_tag    uses  MedianViewCount\n",
       "0                              102750              0.0\n",
       "246                         r   15943            264.0\n",
       "162                regression   10981            124.0\n",
       "178          machine-learning    6595            133.0\n",
       "118               probability    4575            102.0\n",
       "179               time-series    4553            133.0\n",
       "117        hypothesis-testing    3599            102.0\n",
       "166             distributions    2783            127.0\n",
       "76                 self-study    2610             87.5\n",
       "169               correlation    2090            129.0\n",
       "157                  bayesian    2017            123.0\n",
       "152                     anova    1651            119.0\n",
       "170            classification    1551            129.0\n",
       "199                  logistic    1547            146.0\n",
       "66   statistical-significance    1514             82.5\n",
       "213                clustering    1359            163.0\n",
       "187       normal-distribution    1306            137.0\n",
       "143           neural-networks    1160            114.0\n",
       "177       confidence-interval    1091            133.0\n",
       "75    mathematical-statistics     946             87.0"
      ]
     },
     "execution_count": 32,
     "metadata": {},
     "output_type": "execute_result"
    }
   ],
   "source": [
    "dfx.sort_values('uses', inplace=True, ascending=False)\n",
    "dfx.head(20)"
   ]
  },
  {
   "cell_type": "markdown",
   "metadata": {},
   "source": [
    "No tags == no views!"
   ]
  },
  {
   "cell_type": "code",
   "execution_count": 33,
   "metadata": {},
   "outputs": [
    {
     "data": {
      "text/plain": [
       "0"
      ]
     },
     "execution_count": 33,
     "metadata": {},
     "output_type": "execute_result"
    }
   ],
   "source": [
    "df[df['first_tag']=='']['ViewCount'].max()"
   ]
  },
  {
   "cell_type": "markdown",
   "metadata": {},
   "source": [
    "Let's make a simple metadata feature"
   ]
  },
  {
   "cell_type": "code",
   "execution_count": 34,
   "metadata": {},
   "outputs": [
    {
     "data": {
      "image/png": "[encoded data removed]",
      "text/plain": [
       "<matplotlib.figure.Figure at 0x126e9b780>"
      ]
     },
     "metadata": {},
     "output_type": "display_data"
    }
   ],
   "source": [
    "df.groupby(['tag_count'])['ViewCount'].median().plot(kind='bar')\n",
    "plt.ylabel('Median ViewCount')\n",
    "plt.show()"
   ]
  },
  {
   "cell_type": "code",
   "execution_count": 35,
   "metadata": {
    "collapsed": true
   },
   "outputs": [],
   "source": [
    "tc_dummies = pd.get_dummies(df['tag_count'])\n",
    "tc_dummies.columns = list(map(lambda x: 'tc_' + str(x), tc_dummies.columns))\n",
    "df = pd.concat([df, tc_dummies], axis=1)"
   ]
  },
  {
   "cell_type": "code",
   "execution_count": 36,
   "metadata": {
    "collapsed": true
   },
   "outputs": [],
   "source": [
    "del df['tag_count']\n",
    "del df['Tags']"
   ]
  },
  {
   "cell_type": "markdown",
   "metadata": {},
   "source": [
    "There's more to be done with tags, but let's move along and possibly come back to it."
   ]
  },
  {
   "cell_type": "markdown",
   "metadata": {},
   "source": [
    "## Handling long tailed categorical data\n",
    "Let's create dummy variables for the top 20 features"
   ]
  },
  {
   "cell_type": "code",
   "execution_count": 37,
   "metadata": {
    "collapsed": true
   },
   "outputs": [],
   "source": [
    "dfx.sort_values('uses', inplace=True, ascending=False)\n",
    "top_tags = dfx['first_tag'][1:20]"
   ]
  },
  {
   "cell_type": "code",
   "execution_count": 38,
   "metadata": {
    "collapsed": true
   },
   "outputs": [],
   "source": [
    "for tag in top_tags:\n",
    "    df['tag_' + tag] = df['first_tag'] == tag"
   ]
  },
  {
   "cell_type": "code",
   "execution_count": 39,
   "metadata": {
    "collapsed": true
   },
   "outputs": [],
   "source": [
    "del df['first_tag']"
   ]
  },
  {
   "cell_type": "markdown",
   "metadata": {},
   "source": [
    "## Time features"
   ]
  },
  {
   "cell_type": "code",
   "execution_count": 40,
   "metadata": {
    "collapsed": true
   },
   "outputs": [],
   "source": [
    "df['hod'] = df['CreationDate'].apply(lambda x: x.hour)"
   ]
  },
  {
   "cell_type": "markdown",
   "metadata": {},
   "source": [
    "Naturally, there are trends in posting times, but is it a useful predictor?"
   ]
  },
  {
   "cell_type": "code",
   "execution_count": 41,
   "metadata": {},
   "outputs": [
    {
     "data": {
      "image/png": "[encoded data removed]",
      "text/plain": [
       "<matplotlib.figure.Figure at 0x121469080>"
      ]
     },
     "metadata": {},
     "output_type": "display_data"
    }
   ],
   "source": [
    "df.groupby(['hod'])['CreationDate'].count().plot(kind='bar')\n",
    "plt.show()"
   ]
  },
  {
   "cell_type": "markdown",
   "metadata": {},
   "source": [
    "The mean value says no!"
   ]
  },
  {
   "cell_type": "code",
   "execution_count": 42,
   "metadata": {},
   "outputs": [
    {
     "data": {
      "image/png": "[encoded data removed]",
      "text/plain": [
       "<matplotlib.figure.Figure at 0x121c28a58>"
      ]
     },
     "metadata": {},
     "output_type": "display_data"
    }
   ],
   "source": [
    "df.groupby(['hod'])['ViewCount'].mean().plot(kind='bar')\n",
    "plt.show()"
   ]
  },
  {
   "cell_type": "markdown",
   "metadata": {},
   "source": [
    "But the median says yes!"
   ]
  },
  {
   "cell_type": "code",
   "execution_count": 43,
   "metadata": {},
   "outputs": [
    {
     "data": {
      "image/png": "[encoded data removed]",
      "text/plain": [
       "<matplotlib.figure.Figure at 0x121c4f400>"
      ]
     },
     "metadata": {},
     "output_type": "display_data"
    }
   ],
   "source": [
    "df.groupby(['hod'])['ViewCount'].median().plot(kind='bar')\n",
    "plt.show()"
   ]
  },
  {
   "cell_type": "code",
   "execution_count": 44,
   "metadata": {
    "collapsed": true
   },
   "outputs": [],
   "source": [
    "df['dow'] = df['CreationDate'].apply(lambda x: x.dayofweek)"
   ]
  },
  {
   "cell_type": "code",
   "execution_count": 45,
   "metadata": {},
   "outputs": [
    {
     "data": {
      "image/png": "[encoded data removed]",
      "text/plain": [
       "<matplotlib.figure.Figure at 0x127770198>"
      ]
     },
     "metadata": {},
     "output_type": "display_data"
    }
   ],
   "source": [
    "df.groupby(['dow'])['CreationDate'].count().plot(kind='bar')\n",
    "plt.show()"
   ]
  },
  {
   "cell_type": "code",
   "execution_count": 46,
   "metadata": {},
   "outputs": [
    {
     "data": {
      "image/png": "[encoded data removed]",
      "text/plain": [
       "<matplotlib.figure.Figure at 0x115e68198>"
      ]
     },
     "metadata": {},
     "output_type": "display_data"
    }
   ],
   "source": [
    "df.groupby(['dow'])['ViewCount'].mean().plot(kind='bar')\n",
    "plt.ylim(400,700)\n",
    "plt.show()"
   ]
  },
  {
   "cell_type": "code",
   "execution_count": 47,
   "metadata": {
    "collapsed": true
   },
   "outputs": [],
   "source": [
    "df['m'] = df['CreationDate'].apply(lambda x: x.month)"
   ]
  },
  {
   "cell_type": "markdown",
   "metadata": {},
   "source": [
    "Month is a puzzling feature that we'll end up dropping"
   ]
  },
  {
   "cell_type": "code",
   "execution_count": 48,
   "metadata": {},
   "outputs": [
    {
     "data": {
      "image/png": "[encoded data removed]",
      "text/plain": [
       "<matplotlib.figure.Figure at 0x127b3c828>"
      ]
     },
     "metadata": {},
     "output_type": "display_data"
    }
   ],
   "source": [
    "df.groupby(['m'])['CreationDate'].count().plot(kind='bar')\n",
    "plt.show()"
   ]
  },
  {
   "cell_type": "code",
   "execution_count": 49,
   "metadata": {},
   "outputs": [
    {
     "data": {
      "image/png": "[encoded data removed]",
      "text/plain": [
       "<matplotlib.figure.Figure at 0x121bf5cf8>"
      ]
     },
     "metadata": {},
     "output_type": "display_data"
    }
   ],
   "source": [
    "df.groupby(['m'])['ViewCount'].mean().plot(kind='bar')\n",
    "plt.show()"
   ]
  },
  {
   "cell_type": "code",
   "execution_count": 50,
   "metadata": {},
   "outputs": [
    {
     "data": {
      "image/png": "[encoded data removed]",
      "text/plain": [
       "<matplotlib.figure.Figure at 0x121c594e0>"
      ]
     },
     "metadata": {},
     "output_type": "display_data"
    }
   ],
   "source": [
    "df.groupby(['m'])['ViewCount'].median().plot(kind='bar')\n",
    "plt.show()"
   ]
  },
  {
   "cell_type": "code",
   "execution_count": 51,
   "metadata": {
    "collapsed": true
   },
   "outputs": [],
   "source": [
    "tc_dummies = pd.get_dummies(df['dow'])\n",
    "tc_dummies.columns = list(map(lambda x: 'dow_' + str(x), tc_dummies.columns))\n",
    "df = pd.concat([df, tc_dummies], axis=1)"
   ]
  },
  {
   "cell_type": "code",
   "execution_count": 52,
   "metadata": {
    "collapsed": true
   },
   "outputs": [],
   "source": [
    "tc_dummies = pd.get_dummies(df['hod'])\n",
    "tc_dummies.columns = list(map(lambda x: 'hod_' + str(x), tc_dummies.columns))\n",
    "df = pd.concat([df, tc_dummies], axis=1)"
   ]
  },
  {
   "cell_type": "code",
   "execution_count": 53,
   "metadata": {
    "collapsed": true
   },
   "outputs": [],
   "source": [
    "del df['dow']\n",
    "del df['hod']\n",
    "del df['m']"
   ]
  },
  {
   "cell_type": "markdown",
   "metadata": {},
   "source": [
    "# Exploring the age of the post"
   ]
  },
  {
   "cell_type": "code",
   "execution_count": 54,
   "metadata": {
    "collapsed": true
   },
   "outputs": [],
   "source": [
    "last = df['CreationDate'].max()"
   ]
  },
  {
   "cell_type": "code",
   "execution_count": 55,
   "metadata": {
    "collapsed": true
   },
   "outputs": [],
   "source": [
    "df['days_since'] = (last - df['CreationDate']).apply(lambda x: int(x.days))"
   ]
  },
  {
   "cell_type": "code",
   "execution_count": 56,
   "metadata": {},
   "outputs": [
    {
     "data": {
      "image/png": "[encoded data removed]",
      "text/plain": [
       "<matplotlib.figure.Figure at 0x126816ef0>"
      ]
     },
     "metadata": {},
     "output_type": "display_data"
    }
   ],
   "source": [
    "df.groupby(['days_since'])['ViewCount'].mean().plot()\n",
    "plt.show()"
   ]
  },
  {
   "cell_type": "code",
   "execution_count": 57,
   "metadata": {
    "collapsed": true
   },
   "outputs": [],
   "source": [
    "df['months_since'] = (last - df['CreationDate']).apply(lambda x: int(x.days / 30))"
   ]
  },
  {
   "cell_type": "code",
   "execution_count": 58,
   "metadata": {},
   "outputs": [
    {
     "data": {
      "image/png": "[encoded data removed]",
      "text/plain": [
       "<matplotlib.figure.Figure at 0x127968da0>"
      ]
     },
     "metadata": {},
     "output_type": "display_data"
    }
   ],
   "source": [
    "df.groupby(['months_since'])['ViewCount'].mean().plot()\n",
    "plt.show()"
   ]
  },
  {
   "cell_type": "code",
   "execution_count": 59,
   "metadata": {},
   "outputs": [
    {
     "data": {
      "image/png": "[encoded data removed]",
      "text/plain": [
       "<matplotlib.figure.Figure at 0x1277c6630>"
      ]
     },
     "metadata": {},
     "output_type": "display_data"
    }
   ],
   "source": [
    "df.groupby(['months_since'])['ViewCount'].median().plot()\n",
    "plt.show()"
   ]
  },
  {
   "cell_type": "code",
   "execution_count": 60,
   "metadata": {
    "collapsed": true
   },
   "outputs": [],
   "source": [
    "df['lvc'] = df['ViewCount'].apply(lambda x: math.log(x+1))"
   ]
  },
  {
   "cell_type": "code",
   "execution_count": 61,
   "metadata": {},
   "outputs": [
    {
     "data": {
      "image/png": "[encoded data removed]",
      "text/plain": [
       "<matplotlib.figure.Figure at 0x1219b56d8>"
      ]
     },
     "metadata": {},
     "output_type": "display_data"
    }
   ],
   "source": [
    "df.groupby(['months_since'])['lvc'].mean().plot()\n",
    "plt.show()"
   ]
  },
  {
   "cell_type": "code",
   "execution_count": 62,
   "metadata": {
    "collapsed": true
   },
   "outputs": [],
   "source": [
    "df['d7'] = df['days_since'].apply(lambda x: x >= 0 and x < 7)\n",
    "df['d30'] = df['days_since'].apply(lambda x: x >= 7 and x < 30)\n",
    "df['d60'] = df['days_since'].apply(lambda x: x >= 30 and x < 90)\n",
    "df['d90p'] = df['days_since'].apply(lambda x: x >= 90)"
   ]
  },
  {
   "cell_type": "code",
   "execution_count": 63,
   "metadata": {},
   "outputs": [
    {
     "data": {
      "text/plain": [
       "d7     d30    d60    d90p \n",
       "False  False  False  True     599.607982\n",
       "              True   False     34.342713\n",
       "       True   False  False     22.848883\n",
       "True   False  False  False     19.370682\n",
       "Name: ViewCount, dtype: float64"
      ]
     },
     "execution_count": 63,
     "metadata": {},
     "output_type": "execute_result"
    }
   ],
   "source": [
    "df.groupby(['d7', 'd30', 'd60', 'd90p'])['ViewCount'].mean()"
   ]
  },
  {
   "cell_type": "code",
   "execution_count": 64,
   "metadata": {
    "collapsed": true
   },
   "outputs": [],
   "source": [
    "del df['CreationDate']\n",
    "del df['lvc']\n",
    "del df['months_since']\n",
    "del df['days_since']"
   ]
  },
  {
   "cell_type": "markdown",
   "metadata": {},
   "source": [
    "## Textual meta-data"
   ]
  },
  {
   "cell_type": "code",
   "execution_count": 65,
   "metadata": {
    "collapsed": true
   },
   "outputs": [],
   "source": [
    "df['title_len'] = df['Title'].apply(lambda x: len(str(x)))\n",
    "df['body_len'] = df['Body'].apply(lambda x: len(str(x)))"
   ]
  },
  {
   "cell_type": "code",
   "execution_count": 66,
   "metadata": {},
   "outputs": [
    {
     "data": {
      "image/png": "[encoded data removed]",
      "text/plain": [
       "<matplotlib.figure.Figure at 0x127975828>"
      ]
     },
     "metadata": {},
     "output_type": "display_data"
    }
   ],
   "source": [
    "plt.scatter(df['body_len'], df['ViewCount'], alpha=0.05)\n",
    "plt.show()"
   ]
  },
  {
   "cell_type": "code",
   "execution_count": 67,
   "metadata": {
    "collapsed": true
   },
   "outputs": [],
   "source": [
    "# Be patient!\n",
    "df['Body2'] = df['Body'].apply(lambda x: bleach.clean(x, tags=[], attributes={}, styles=[], strip=True))"
   ]
  },
  {
   "cell_type": "code",
   "execution_count": 68,
   "metadata": {},
   "outputs": [
    {
     "name": "stdout",
     "output_type": "stream",
     "text": [
      "How should I elicit prior distributions from experts when fitting a Bayesian model?\n",
      "\n",
      "------------------------------\n",
      "In many different statistical methods there is an \"assumption of normality\".  What is \"normality\" and how do I know if there is normality?\n",
      "\n",
      "------------------------------\n",
      "What are some valuable Statistical Analysis open source projects available right now?\n",
      "\n",
      "Edit: as pointed out by Sharpie, valuable could mean helping you get things done faster or more cheaply.\n",
      "\n",
      "------------------------------\n",
      "I have two groups of data.  Each with a different distribution of multiple variables.  I'm trying to determine if these two groups' distributions are different in a statistically significant way.  I have the data in both raw form and binned up in easier to deal with discrete categories with frequency counts in each.  \n",
      "\n",
      "What tests/procedures/methods should I use to determine whether or not these two groups are significantly different and how do I do that in SAS or R (or Orange)?\n",
      "\n",
      "------------------------------\n",
      "The R-project\n",
      "\n",
      "http://www.r-project.org/\n",
      "\n",
      "R is valuable and significant because it was the first widely-accepted Open-Source alternative to big-box packages.  It's mature, well supported, and a standard within many scientific communities.\n",
      "\n",
      "\n",
      "Some reasons why it is useful and valuable \n",
      "There are some nice tutorials here.\n",
      "\n",
      "\n",
      "------------------------------\n",
      "Last year, I read a blog post from Brendan O'Connor entitled \"Statistics vs. Machine Learning, fight!\" that discussed some of the differences between the two fields.  Andrew Gelman responded favorably to this:\n",
      "\n",
      "Simon Blomberg: \n",
      "\n",
      "\n",
      "  From R's fortunes\n",
      "  package: To paraphrase provocatively,\n",
      "  'machine learning is statistics minus\n",
      "  any checking of models and\n",
      "  assumptions'.\n",
      "  -- Brian D. Ripley (about the difference between machine learning\n",
      "  and statistics) useR! 2004, Vienna\n",
      "  (May 2004) :-) Season's Greetings!\n",
      "\n",
      "\n",
      "Andrew Gelman:\n",
      "\n",
      "\n",
      "  In that case, maybe we should get rid\n",
      "  of checking of models and assumptions\n",
      "  more often. Then maybe we'd be able to\n",
      "  solve some of the problems that the\n",
      "  machine learning people can solve but\n",
      "  we can't!\n",
      "\n",
      "\n",
      "There was also the \"Statistical Modeling: The Two Cultures\" paper by Leo Breiman in 2001 which argued that statisticians rely too heavily on data modeling, and that machine learning techniques are making progress by instead relying on the predictive accuracy of models.\n",
      "\n",
      "Has the statistics field changed over the last decade in response to these critiques?  Do the two cultures still exist or has statistics grown to embrace machine learning techniques such as neural networks and support vector machines?\n",
      "\n",
      "------------------------------\n",
      "I've been working on a new method for analyzing and parsing datasets to identify and isolate subgroups of a population without foreknowledge of any subgroup's characteristics.  While the method works well enough with artificial data samples (i.e. datasets created specifically for the purpose of identifying and segregating subsets of the population), I'd like to try testing it with live data.\n",
      "\n",
      "What I'm looking for is a freely available (i.e. non-confidential, non-proprietary) data source.  Preferably one containing bimodal or multimodal distributions or being obviously comprised of multiple subsets that cannot be easily pulled apart via traditional means.  Where would I go to find such information?\n",
      "\n",
      "------------------------------\n",
      "Sorry, but the emptyness was a bit overwhelming. And this has been stuck in my head since it got asked at Area51!\n",
      "\n",
      "------------------------------\n",
      "Incanter is a Clojure-based, R-like platform (environment + libraries) for statistical computing and graphics. \n",
      "\n",
      "------------------------------\n",
      "Many studies in the social sciences use Likert scales.  When is it appropriate to use Likert data as ordinal and when is it appropriate to use it as interval data?\n",
      "\n",
      "------------------------------\n"
     ]
    }
   ],
   "source": [
    "for bod in df['Body2'][0:10]:\n",
    "    print(bod)\n",
    "    print('------------------------------')"
   ]
  },
  {
   "cell_type": "markdown",
   "metadata": {},
   "source": [
    "## Audience question: Should we really be focusing on the Body?  Any problems with this strategy?"
   ]
  },
  {
   "cell_type": "code",
   "execution_count": 69,
   "metadata": {
    "collapsed": true
   },
   "outputs": [],
   "source": [
    "def substringCount(haystack, needle):\n",
    "    c = 0\n",
    "    haystack = haystack.strip()\n",
    "    i = 0\n",
    "    while i != -1:\n",
    "        i = haystack.find(needle, i+1)\n",
    "        if i != -1:\n",
    "            c += 1\n",
    "    return c"
   ]
  },
  {
   "cell_type": "code",
   "execution_count": 70,
   "metadata": {
    "collapsed": true
   },
   "outputs": [],
   "source": [
    "df['body_newline_count'] = df['Body2'].apply(lambda x: substringCount(x, '\\n'))"
   ]
  },
  {
   "cell_type": "code",
   "execution_count": 71,
   "metadata": {
    "collapsed": true
   },
   "outputs": [],
   "source": [
    "df['body_newline_count'] = df['body_newline_count'].apply(lambda x: math.log(x+1))"
   ]
  },
  {
   "cell_type": "code",
   "execution_count": 72,
   "metadata": {},
   "outputs": [
    {
     "data": {
      "text/plain": [
       "<matplotlib.axes._subplots.AxesSubplot at 0x127a6a9b0>"
      ]
     },
     "execution_count": 72,
     "metadata": {},
     "output_type": "execute_result"
    },
    {
     "data": {
      "image/png": "[encoded data removed]",
      "text/plain": [
       "<matplotlib.figure.Figure at 0x126dd5780>"
      ]
     },
     "metadata": {},
     "output_type": "display_data"
    }
   ],
   "source": [
    "df['body_newline_count'].hist()"
   ]
  },
  {
   "cell_type": "code",
   "execution_count": 73,
   "metadata": {
    "collapsed": true
   },
   "outputs": [],
   "source": [
    "df['amt_html'] = 1.0 - df['Body2'].apply(len) / df['Body'].apply(len)"
   ]
  },
  {
   "cell_type": "code",
   "execution_count": 74,
   "metadata": {},
   "outputs": [
    {
     "data": {
      "image/png": "[encoded data removed]",
      "text/plain": [
       "<matplotlib.figure.Figure at 0x127c86940>"
      ]
     },
     "metadata": {},
     "output_type": "display_data"
    }
   ],
   "source": [
    "df['amt_html'].hist()\n",
    "plt.show()"
   ]
  },
  {
   "cell_type": "code",
   "execution_count": 75,
   "metadata": {
    "collapsed": true
   },
   "outputs": [],
   "source": [
    "df['amt_html'] = df['amt_html'].apply(lambda x: math.log(x+1))"
   ]
  },
  {
   "cell_type": "code",
   "execution_count": 76,
   "metadata": {},
   "outputs": [
    {
     "data": {
      "image/png": "[encoded data removed]",
      "text/plain": [
       "<matplotlib.figure.Figure at 0x127d6d978>"
      ]
     },
     "metadata": {},
     "output_type": "display_data"
    }
   ],
   "source": [
    "df['amt_html'].hist()\n",
    "plt.show()"
   ]
  },
  {
   "cell_type": "code",
   "execution_count": 77,
   "metadata": {
    "collapsed": true
   },
   "outputs": [],
   "source": [
    "df['has_link'] = df['Body2'].apply(lambda x: x.find('http:') > 0 or x.find('https:') > 0)"
   ]
  },
  {
   "cell_type": "code",
   "execution_count": 78,
   "metadata": {},
   "outputs": [
    {
     "data": {
      "text/plain": [
       "has_link\n",
       "False    192844\n",
       "True      13472\n",
       "Name: Body2, dtype: int64"
      ]
     },
     "execution_count": 78,
     "metadata": {},
     "output_type": "execute_result"
    }
   ],
   "source": [
    "df.groupby(['has_link'])['Body2'].count()"
   ]
  },
  {
   "cell_type": "markdown",
   "metadata": {},
   "source": [
    "Under some circumstances, I'd add `has_latex` as a feature, but it seems to much like leakage here."
   ]
  },
  {
   "cell_type": "code",
   "execution_count": 79,
   "metadata": {
    "collapsed": true
   },
   "outputs": [],
   "source": [
    "del df['Body']"
   ]
  },
  {
   "cell_type": "code",
   "execution_count": 80,
   "metadata": {
    "collapsed": true
   },
   "outputs": [],
   "source": [
    "del df['Body2']"
   ]
  },
  {
   "cell_type": "markdown",
   "metadata": {},
   "source": [
    "## Crude User Modeling"
   ]
  },
  {
   "cell_type": "code",
   "execution_count": 81,
   "metadata": {},
   "outputs": [
    {
     "data": {
      "text/plain": [
       "2919"
      ]
     },
     "execution_count": 81,
     "metadata": {},
     "output_type": "execute_result"
    }
   ],
   "source": [
    "len(set(df['OwnerDisplayName']))"
   ]
  },
  {
   "cell_type": "code",
   "execution_count": 82,
   "metadata": {},
   "outputs": [
    {
     "name": "stdout",
     "output_type": "stream",
     "text": [
      "[nan, 'user4288', 'miguelmalvarez', 'limp', 'ponadto', 'sinoTrinity', 'user1785104', 'Tobi', 'heropup', 'David Zhen', 'tree', 'user1911070', 'TomJ', 'Chris NH Street', 'iliasfl', 'user16775', 'fbrundu', \"Giampiero D'Alessandro\", 'user3507640', 'Miller Zhu', 'Jesse001', 'Ethan Bolker', 'rtelmore', 'user2637', 'prasenjit', 'tschmitty', 'Regenschein', 'Lowpar', 'lara.faelivrin', 'Jaap', 'Raymond Timmermans', 'Alexander Sobin', 'Ryno', 'MangoHands', 'user2964', 'user3583100', 'user3690', 'Addem', 'user664303', 'Sarra', 'Mamoud', 'Pieter Torrez', 'Worldsheep', 'hungh3', 'mr11', 'Predictor', 'Jim Clay', 'Gigili', 'Taoufiq Mouhcine', 'Lau99', 'Makro', 'user30490', 'user3632', 'user124644', 'user16731', 'tjnel', 'Braulio Quintero', 'Mickaël Perrier', 'Tim Nuttle', 'Miranda', 'user3897', 'Mash', 'Tomas T.', 'SAM', 'eterps', 'radek', 'David Rebelo', 'user2951', 'user7812', 'Robert Dodier', 'Danib90', 'Mike Henderson', 'Pedro Braz', 'user62545', 'Thierry', 'tdo', 'user3715', 'user2547406', 'Josh English', 'cambelot', 'Jamie Leigh', 'Omar Shehab', 'Eduardo Barbaro', 'sydeulissie', 'Hashtag', 'lennon310', 'Thomas Schaaf', 'Gerenuk', 'Jason Southwell', 'Steve Palley', 'jbssm', 'Cengiz Frostclaw', 'Henry B.', 'Chase', 'Saul Lugo', 'baz', 'pbee', 'Tom Au', 'sebhofer', 'pharmine']\n"
     ]
    }
   ],
   "source": [
    "print(list(set(df['OwnerDisplayName']))[0:100])"
   ]
  },
  {
   "cell_type": "code",
   "execution_count": 83,
   "metadata": {},
   "outputs": [
    {
     "name": "stderr",
     "output_type": "stream",
     "text": [
      "/usr/local/lib/python3.5/site-packages/pandas/core/groupby.py:4036: FutureWarning: using a dict with renaming is deprecated and will be removed in a future version\n",
      "  return super(DataFrameGroupBy, self).aggregate(arg, *args, **kwargs)\n"
     ]
    },
    {
     "data": {
      "text/html": [
       "<div>\n",
       "<style>\n",
       "    .dataframe thead tr:only-child th {\n",
       "        text-align: right;\n",
       "    }\n",
       "\n",
       "    .dataframe thead th {\n",
       "        text-align: left;\n",
       "    }\n",
       "\n",
       "    .dataframe tbody tr th {\n",
       "        vertical-align: top;\n",
       "    }\n",
       "</style>\n",
       "<table border=\"1\" class=\"dataframe\">\n",
       "  <thead>\n",
       "    <tr style=\"text-align: right;\">\n",
       "      <th></th>\n",
       "      <th>OwnerDisplayName</th>\n",
       "      <th>m</th>\n",
       "      <th>c</th>\n",
       "    </tr>\n",
       "  </thead>\n",
       "  <tbody>\n",
       "    <tr>\n",
       "      <th>0</th>\n",
       "      <td>user3636</td>\n",
       "      <td>356186.0</td>\n",
       "      <td>1</td>\n",
       "    </tr>\n",
       "    <tr>\n",
       "      <th>1</th>\n",
       "      <td>ritho</td>\n",
       "      <td>90993.0</td>\n",
       "      <td>1</td>\n",
       "    </tr>\n",
       "    <tr>\n",
       "      <th>2</th>\n",
       "      <td>alfa</td>\n",
       "      <td>77067.0</td>\n",
       "      <td>1</td>\n",
       "    </tr>\n",
       "    <tr>\n",
       "      <th>3</th>\n",
       "      <td>Durin</td>\n",
       "      <td>69085.0</td>\n",
       "      <td>1</td>\n",
       "    </tr>\n",
       "    <tr>\n",
       "      <th>4</th>\n",
       "      <td>Tawani</td>\n",
       "      <td>62084.0</td>\n",
       "      <td>1</td>\n",
       "    </tr>\n",
       "    <tr>\n",
       "      <th>5</th>\n",
       "      <td>Travis</td>\n",
       "      <td>53792.0</td>\n",
       "      <td>1</td>\n",
       "    </tr>\n",
       "    <tr>\n",
       "      <th>6</th>\n",
       "      <td>user333</td>\n",
       "      <td>42945.0</td>\n",
       "      <td>1</td>\n",
       "    </tr>\n",
       "    <tr>\n",
       "      <th>7</th>\n",
       "      <td>Arvin</td>\n",
       "      <td>42923.0</td>\n",
       "      <td>1</td>\n",
       "    </tr>\n",
       "    <tr>\n",
       "      <th>8</th>\n",
       "      <td>user3872</td>\n",
       "      <td>41785.0</td>\n",
       "      <td>1</td>\n",
       "    </tr>\n",
       "    <tr>\n",
       "      <th>9</th>\n",
       "      <td>sbg</td>\n",
       "      <td>36520.0</td>\n",
       "      <td>1</td>\n",
       "    </tr>\n",
       "  </tbody>\n",
       "</table>\n",
       "</div>"
      ],
      "text/plain": [
       "  OwnerDisplayName         m  c\n",
       "0         user3636  356186.0  1\n",
       "1            ritho   90993.0  1\n",
       "2             alfa   77067.0  1\n",
       "3            Durin   69085.0  1\n",
       "4           Tawani   62084.0  1\n",
       "5           Travis   53792.0  1\n",
       "6          user333   42945.0  1\n",
       "7            Arvin   42923.0  1\n",
       "8         user3872   41785.0  1\n",
       "9              sbg   36520.0  1"
      ]
     },
     "execution_count": 83,
     "metadata": {},
     "output_type": "execute_result"
    }
   ],
   "source": [
    "g = pd.DataFrame(df.groupby(['OwnerDisplayName']).aggregate({'ViewCount': {'m': np.mean, 'c': len}}))\n",
    "g = g['ViewCount']\n",
    "g.sort_values('m', ascending=False, inplace=True)\n",
    "g.reset_index(inplace=True)\n",
    "g.head(10)"
   ]
  },
  {
   "cell_type": "code",
   "execution_count": 84,
   "metadata": {},
   "outputs": [
    {
     "data": {
      "text/html": [
       "<div>\n",
       "<style>\n",
       "    .dataframe thead tr:only-child th {\n",
       "        text-align: right;\n",
       "    }\n",
       "\n",
       "    .dataframe thead th {\n",
       "        text-align: left;\n",
       "    }\n",
       "\n",
       "    .dataframe tbody tr th {\n",
       "        vertical-align: top;\n",
       "    }\n",
       "</style>\n",
       "<table border=\"1\" class=\"dataframe\">\n",
       "  <thead>\n",
       "    <tr style=\"text-align: right;\">\n",
       "      <th></th>\n",
       "      <th>ViewCount</th>\n",
       "      <th>OwnerUserId</th>\n",
       "      <th>Title</th>\n",
       "      <th>OwnerDisplayName</th>\n",
       "      <th>tc_0</th>\n",
       "      <th>tc_1</th>\n",
       "      <th>tc_2</th>\n",
       "      <th>tc_3</th>\n",
       "      <th>tc_4</th>\n",
       "      <th>tc_5</th>\n",
       "      <th>tag_r</th>\n",
       "      <th>tag_regression</th>\n",
       "      <th>tag_machine-learning</th>\n",
       "      <th>tag_probability</th>\n",
       "      <th>tag_time-series</th>\n",
       "      <th>tag_hypothesis-testing</th>\n",
       "      <th>tag_distributions</th>\n",
       "      <th>tag_self-study</th>\n",
       "      <th>tag_correlation</th>\n",
       "      <th>tag_bayesian</th>\n",
       "      <th>tag_anova</th>\n",
       "      <th>tag_classification</th>\n",
       "      <th>tag_logistic</th>\n",
       "      <th>tag_statistical-significance</th>\n",
       "      <th>tag_clustering</th>\n",
       "      <th>tag_normal-distribution</th>\n",
       "      <th>tag_neural-networks</th>\n",
       "      <th>tag_confidence-interval</th>\n",
       "      <th>tag_mathematical-statistics</th>\n",
       "      <th>dow_0</th>\n",
       "      <th>dow_1</th>\n",
       "      <th>dow_2</th>\n",
       "      <th>dow_3</th>\n",
       "      <th>dow_4</th>\n",
       "      <th>dow_5</th>\n",
       "      <th>dow_6</th>\n",
       "      <th>hod_0</th>\n",
       "      <th>hod_1</th>\n",
       "      <th>hod_2</th>\n",
       "      <th>hod_3</th>\n",
       "      <th>hod_4</th>\n",
       "      <th>hod_5</th>\n",
       "      <th>hod_6</th>\n",
       "      <th>hod_7</th>\n",
       "      <th>hod_8</th>\n",
       "      <th>hod_9</th>\n",
       "      <th>hod_10</th>\n",
       "      <th>hod_11</th>\n",
       "      <th>hod_12</th>\n",
       "      <th>hod_13</th>\n",
       "      <th>hod_14</th>\n",
       "      <th>hod_15</th>\n",
       "      <th>hod_16</th>\n",
       "      <th>hod_17</th>\n",
       "      <th>hod_18</th>\n",
       "      <th>hod_19</th>\n",
       "      <th>hod_20</th>\n",
       "      <th>hod_21</th>\n",
       "      <th>hod_22</th>\n",
       "      <th>hod_23</th>\n",
       "      <th>d7</th>\n",
       "      <th>d30</th>\n",
       "      <th>d60</th>\n",
       "      <th>d90p</th>\n",
       "      <th>title_len</th>\n",
       "      <th>body_len</th>\n",
       "      <th>body_newline_count</th>\n",
       "      <th>amt_html</th>\n",
       "      <th>has_link</th>\n",
       "    </tr>\n",
       "  </thead>\n",
       "  <tbody>\n",
       "    <tr>\n",
       "      <th>7406</th>\n",
       "      <td>356186</td>\n",
       "      <td>NaN</td>\n",
       "      <td>How to choose between Pearson and Spearman cor...</td>\n",
       "      <td>user3636</td>\n",
       "      <td>0</td>\n",
       "      <td>0</td>\n",
       "      <td>0</td>\n",
       "      <td>1</td>\n",
       "      <td>0</td>\n",
       "      <td>0</td>\n",
       "      <td>False</td>\n",
       "      <td>False</td>\n",
       "      <td>False</td>\n",
       "      <td>False</td>\n",
       "      <td>False</td>\n",
       "      <td>False</td>\n",
       "      <td>False</td>\n",
       "      <td>False</td>\n",
       "      <td>True</td>\n",
       "      <td>False</td>\n",
       "      <td>False</td>\n",
       "      <td>False</td>\n",
       "      <td>False</td>\n",
       "      <td>False</td>\n",
       "      <td>False</td>\n",
       "      <td>False</td>\n",
       "      <td>False</td>\n",
       "      <td>False</td>\n",
       "      <td>False</td>\n",
       "      <td>0</td>\n",
       "      <td>0</td>\n",
       "      <td>1</td>\n",
       "      <td>0</td>\n",
       "      <td>0</td>\n",
       "      <td>0</td>\n",
       "      <td>0</td>\n",
       "      <td>0</td>\n",
       "      <td>0</td>\n",
       "      <td>0</td>\n",
       "      <td>0</td>\n",
       "      <td>0</td>\n",
       "      <td>0</td>\n",
       "      <td>0</td>\n",
       "      <td>0</td>\n",
       "      <td>0</td>\n",
       "      <td>0</td>\n",
       "      <td>0</td>\n",
       "      <td>1</td>\n",
       "      <td>0</td>\n",
       "      <td>0</td>\n",
       "      <td>0</td>\n",
       "      <td>0</td>\n",
       "      <td>0</td>\n",
       "      <td>0</td>\n",
       "      <td>0</td>\n",
       "      <td>0</td>\n",
       "      <td>0</td>\n",
       "      <td>0</td>\n",
       "      <td>0</td>\n",
       "      <td>0</td>\n",
       "      <td>False</td>\n",
       "      <td>False</td>\n",
       "      <td>False</td>\n",
       "      <td>True</td>\n",
       "      <td>55</td>\n",
       "      <td>221</td>\n",
       "      <td>0.0</td>\n",
       "      <td>0.031183</td>\n",
       "      <td>False</td>\n",
       "    </tr>\n",
       "  </tbody>\n",
       "</table>\n",
       "</div>"
      ],
      "text/plain": [
       "      ViewCount OwnerUserId  \\\n",
       "7406     356186         NaN   \n",
       "\n",
       "                                                  Title OwnerDisplayName  \\\n",
       "7406  How to choose between Pearson and Spearman cor...         user3636   \n",
       "\n",
       "      tc_0  tc_1  tc_2  tc_3  tc_4  tc_5  tag_r  tag_regression  \\\n",
       "7406     0     0     0     1     0     0  False           False   \n",
       "\n",
       "      tag_machine-learning  tag_probability  tag_time-series  \\\n",
       "7406                 False            False            False   \n",
       "\n",
       "      tag_hypothesis-testing  tag_distributions  tag_self-study  \\\n",
       "7406                   False              False           False   \n",
       "\n",
       "      tag_correlation  tag_bayesian  tag_anova  tag_classification  \\\n",
       "7406             True         False      False               False   \n",
       "\n",
       "      tag_logistic  tag_statistical-significance  tag_clustering  \\\n",
       "7406         False                         False           False   \n",
       "\n",
       "      tag_normal-distribution  tag_neural-networks  tag_confidence-interval  \\\n",
       "7406                    False                False                    False   \n",
       "\n",
       "      tag_mathematical-statistics  dow_0  dow_1  dow_2  dow_3  dow_4  dow_5  \\\n",
       "7406                        False      0      0      1      0      0      0   \n",
       "\n",
       "      dow_6  hod_0  hod_1  hod_2  hod_3  hod_4  hod_5  hod_6  hod_7  hod_8  \\\n",
       "7406      0      0      0      0      0      0      0      0      0      0   \n",
       "\n",
       "      hod_9  hod_10  hod_11  hod_12  hod_13  hod_14  hod_15  hod_16  hod_17  \\\n",
       "7406      0       0       1       0       0       0       0       0       0   \n",
       "\n",
       "      hod_18  hod_19  hod_20  hod_21  hod_22  hod_23     d7    d30    d60  \\\n",
       "7406       0       0       0       0       0       0  False  False  False   \n",
       "\n",
       "      d90p  title_len  body_len  body_newline_count  amt_html  has_link  \n",
       "7406  True         55       221                 0.0  0.031183     False  "
      ]
     },
     "execution_count": 84,
     "metadata": {},
     "output_type": "execute_result"
    }
   ],
   "source": [
    "df[df['OwnerDisplayName']=='user3636']"
   ]
  },
  {
   "cell_type": "code",
   "execution_count": 85,
   "metadata": {},
   "outputs": [
    {
     "data": {
      "text/html": [
       "<div>\n",
       "<style>\n",
       "    .dataframe thead tr:only-child th {\n",
       "        text-align: right;\n",
       "    }\n",
       "\n",
       "    .dataframe thead th {\n",
       "        text-align: left;\n",
       "    }\n",
       "\n",
       "    .dataframe tbody tr th {\n",
       "        vertical-align: top;\n",
       "    }\n",
       "</style>\n",
       "<table border=\"1\" class=\"dataframe\">\n",
       "  <thead>\n",
       "    <tr style=\"text-align: right;\">\n",
       "      <th></th>\n",
       "      <th>ViewCount</th>\n",
       "      <th>OwnerUserId</th>\n",
       "      <th>Title</th>\n",
       "      <th>OwnerDisplayName</th>\n",
       "      <th>tc_0</th>\n",
       "      <th>tc_1</th>\n",
       "      <th>tc_2</th>\n",
       "      <th>tc_3</th>\n",
       "      <th>tc_4</th>\n",
       "      <th>tc_5</th>\n",
       "      <th>tag_r</th>\n",
       "      <th>tag_regression</th>\n",
       "      <th>tag_machine-learning</th>\n",
       "      <th>tag_probability</th>\n",
       "      <th>tag_time-series</th>\n",
       "      <th>tag_hypothesis-testing</th>\n",
       "      <th>tag_distributions</th>\n",
       "      <th>tag_self-study</th>\n",
       "      <th>tag_correlation</th>\n",
       "      <th>tag_bayesian</th>\n",
       "      <th>tag_anova</th>\n",
       "      <th>tag_classification</th>\n",
       "      <th>tag_logistic</th>\n",
       "      <th>tag_statistical-significance</th>\n",
       "      <th>tag_clustering</th>\n",
       "      <th>tag_normal-distribution</th>\n",
       "      <th>tag_neural-networks</th>\n",
       "      <th>tag_confidence-interval</th>\n",
       "      <th>tag_mathematical-statistics</th>\n",
       "      <th>dow_0</th>\n",
       "      <th>dow_1</th>\n",
       "      <th>dow_2</th>\n",
       "      <th>dow_3</th>\n",
       "      <th>dow_4</th>\n",
       "      <th>dow_5</th>\n",
       "      <th>dow_6</th>\n",
       "      <th>hod_0</th>\n",
       "      <th>hod_1</th>\n",
       "      <th>hod_2</th>\n",
       "      <th>hod_3</th>\n",
       "      <th>hod_4</th>\n",
       "      <th>hod_5</th>\n",
       "      <th>hod_6</th>\n",
       "      <th>hod_7</th>\n",
       "      <th>hod_8</th>\n",
       "      <th>hod_9</th>\n",
       "      <th>hod_10</th>\n",
       "      <th>hod_11</th>\n",
       "      <th>hod_12</th>\n",
       "      <th>hod_13</th>\n",
       "      <th>hod_14</th>\n",
       "      <th>hod_15</th>\n",
       "      <th>hod_16</th>\n",
       "      <th>hod_17</th>\n",
       "      <th>hod_18</th>\n",
       "      <th>hod_19</th>\n",
       "      <th>hod_20</th>\n",
       "      <th>hod_21</th>\n",
       "      <th>hod_22</th>\n",
       "      <th>hod_23</th>\n",
       "      <th>d7</th>\n",
       "      <th>d30</th>\n",
       "      <th>d60</th>\n",
       "      <th>d90p</th>\n",
       "      <th>title_len</th>\n",
       "      <th>body_len</th>\n",
       "      <th>body_newline_count</th>\n",
       "      <th>amt_html</th>\n",
       "      <th>has_link</th>\n",
       "    </tr>\n",
       "  </thead>\n",
       "  <tbody>\n",
       "    <tr>\n",
       "      <th>24726</th>\n",
       "      <td>90993</td>\n",
       "      <td>NaN</td>\n",
       "      <td>What is the reason why we use natural logarith...</td>\n",
       "      <td>ritho</td>\n",
       "      <td>0</td>\n",
       "      <td>1</td>\n",
       "      <td>0</td>\n",
       "      <td>0</td>\n",
       "      <td>0</td>\n",
       "      <td>0</td>\n",
       "      <td>False</td>\n",
       "      <td>False</td>\n",
       "      <td>False</td>\n",
       "      <td>False</td>\n",
       "      <td>False</td>\n",
       "      <td>False</td>\n",
       "      <td>False</td>\n",
       "      <td>False</td>\n",
       "      <td>False</td>\n",
       "      <td>False</td>\n",
       "      <td>False</td>\n",
       "      <td>False</td>\n",
       "      <td>False</td>\n",
       "      <td>False</td>\n",
       "      <td>False</td>\n",
       "      <td>False</td>\n",
       "      <td>False</td>\n",
       "      <td>False</td>\n",
       "      <td>False</td>\n",
       "      <td>0</td>\n",
       "      <td>1</td>\n",
       "      <td>0</td>\n",
       "      <td>0</td>\n",
       "      <td>0</td>\n",
       "      <td>0</td>\n",
       "      <td>0</td>\n",
       "      <td>0</td>\n",
       "      <td>0</td>\n",
       "      <td>0</td>\n",
       "      <td>0</td>\n",
       "      <td>0</td>\n",
       "      <td>0</td>\n",
       "      <td>0</td>\n",
       "      <td>0</td>\n",
       "      <td>0</td>\n",
       "      <td>0</td>\n",
       "      <td>1</td>\n",
       "      <td>0</td>\n",
       "      <td>0</td>\n",
       "      <td>0</td>\n",
       "      <td>0</td>\n",
       "      <td>0</td>\n",
       "      <td>0</td>\n",
       "      <td>0</td>\n",
       "      <td>0</td>\n",
       "      <td>0</td>\n",
       "      <td>0</td>\n",
       "      <td>0</td>\n",
       "      <td>0</td>\n",
       "      <td>0</td>\n",
       "      <td>False</td>\n",
       "      <td>False</td>\n",
       "      <td>False</td>\n",
       "      <td>True</td>\n",
       "      <td>119</td>\n",
       "      <td>128</td>\n",
       "      <td>0.0</td>\n",
       "      <td>0.053245</td>\n",
       "      <td>False</td>\n",
       "    </tr>\n",
       "  </tbody>\n",
       "</table>\n",
       "</div>"
      ],
      "text/plain": [
       "       ViewCount OwnerUserId  \\\n",
       "24726      90993         NaN   \n",
       "\n",
       "                                                   Title OwnerDisplayName  \\\n",
       "24726  What is the reason why we use natural logarith...            ritho   \n",
       "\n",
       "       tc_0  tc_1  tc_2  tc_3  tc_4  tc_5  tag_r  tag_regression  \\\n",
       "24726     0     1     0     0     0     0  False           False   \n",
       "\n",
       "       tag_machine-learning  tag_probability  tag_time-series  \\\n",
       "24726                 False            False            False   \n",
       "\n",
       "       tag_hypothesis-testing  tag_distributions  tag_self-study  \\\n",
       "24726                   False              False           False   \n",
       "\n",
       "       tag_correlation  tag_bayesian  tag_anova  tag_classification  \\\n",
       "24726            False         False      False               False   \n",
       "\n",
       "       tag_logistic  tag_statistical-significance  tag_clustering  \\\n",
       "24726         False                         False           False   \n",
       "\n",
       "       tag_normal-distribution  tag_neural-networks  tag_confidence-interval  \\\n",
       "24726                    False                False                    False   \n",
       "\n",
       "       tag_mathematical-statistics  dow_0  dow_1  dow_2  dow_3  dow_4  dow_5  \\\n",
       "24726                        False      0      1      0      0      0      0   \n",
       "\n",
       "       dow_6  hod_0  hod_1  hod_2  hod_3  hod_4  hod_5  hod_6  hod_7  hod_8  \\\n",
       "24726      0      0      0      0      0      0      0      0      0      0   \n",
       "\n",
       "       hod_9  hod_10  hod_11  hod_12  hod_13  hod_14  hod_15  hod_16  hod_17  \\\n",
       "24726      0       1       0       0       0       0       0       0       0   \n",
       "\n",
       "       hod_18  hod_19  hod_20  hod_21  hod_22  hod_23     d7    d30    d60  \\\n",
       "24726       0       0       0       0       0       0  False  False  False   \n",
       "\n",
       "       d90p  title_len  body_len  body_newline_count  amt_html  has_link  \n",
       "24726  True        119       128                 0.0  0.053245     False  "
      ]
     },
     "execution_count": 85,
     "metadata": {},
     "output_type": "execute_result"
    }
   ],
   "source": [
    "df[df['OwnerDisplayName']=='ritho']"
   ]
  },
  {
   "cell_type": "code",
   "execution_count": 86,
   "metadata": {},
   "outputs": [
    {
     "data": {
      "text/html": [
       "<div>\n",
       "<style>\n",
       "    .dataframe thead tr:only-child th {\n",
       "        text-align: right;\n",
       "    }\n",
       "\n",
       "    .dataframe thead th {\n",
       "        text-align: left;\n",
       "    }\n",
       "\n",
       "    .dataframe tbody tr th {\n",
       "        vertical-align: top;\n",
       "    }\n",
       "</style>\n",
       "<table border=\"1\" class=\"dataframe\">\n",
       "  <thead>\n",
       "    <tr style=\"text-align: right;\">\n",
       "      <th></th>\n",
       "      <th>OwnerDisplayName</th>\n",
       "      <th>m</th>\n",
       "      <th>c</th>\n",
       "    </tr>\n",
       "  </thead>\n",
       "  <tbody>\n",
       "    <tr>\n",
       "      <th>0</th>\n",
       "      <td>user3636</td>\n",
       "      <td>356186.0</td>\n",
       "      <td>1</td>\n",
       "    </tr>\n",
       "    <tr>\n",
       "      <th>1</th>\n",
       "      <td>ritho</td>\n",
       "      <td>90993.0</td>\n",
       "      <td>1</td>\n",
       "    </tr>\n",
       "    <tr>\n",
       "      <th>2</th>\n",
       "      <td>alfa</td>\n",
       "      <td>77067.0</td>\n",
       "      <td>1</td>\n",
       "    </tr>\n",
       "    <tr>\n",
       "      <th>3</th>\n",
       "      <td>Durin</td>\n",
       "      <td>69085.0</td>\n",
       "      <td>1</td>\n",
       "    </tr>\n",
       "    <tr>\n",
       "      <th>4</th>\n",
       "      <td>Tawani</td>\n",
       "      <td>62084.0</td>\n",
       "      <td>1</td>\n",
       "    </tr>\n",
       "    <tr>\n",
       "      <th>5</th>\n",
       "      <td>Travis</td>\n",
       "      <td>53792.0</td>\n",
       "      <td>1</td>\n",
       "    </tr>\n",
       "    <tr>\n",
       "      <th>6</th>\n",
       "      <td>user333</td>\n",
       "      <td>42945.0</td>\n",
       "      <td>1</td>\n",
       "    </tr>\n",
       "    <tr>\n",
       "      <th>7</th>\n",
       "      <td>Arvin</td>\n",
       "      <td>42923.0</td>\n",
       "      <td>1</td>\n",
       "    </tr>\n",
       "    <tr>\n",
       "      <th>8</th>\n",
       "      <td>user3872</td>\n",
       "      <td>41785.0</td>\n",
       "      <td>1</td>\n",
       "    </tr>\n",
       "    <tr>\n",
       "      <th>9</th>\n",
       "      <td>sbg</td>\n",
       "      <td>36520.0</td>\n",
       "      <td>1</td>\n",
       "    </tr>\n",
       "  </tbody>\n",
       "</table>\n",
       "</div>"
      ],
      "text/plain": [
       "  OwnerDisplayName         m  c\n",
       "0         user3636  356186.0  1\n",
       "1            ritho   90993.0  1\n",
       "2             alfa   77067.0  1\n",
       "3            Durin   69085.0  1\n",
       "4           Tawani   62084.0  1\n",
       "5           Travis   53792.0  1\n",
       "6          user333   42945.0  1\n",
       "7            Arvin   42923.0  1\n",
       "8         user3872   41785.0  1\n",
       "9              sbg   36520.0  1"
      ]
     },
     "execution_count": 86,
     "metadata": {},
     "output_type": "execute_result"
    }
   ],
   "source": [
    "g.sort_values('m', ascending=False, inplace=True)\n",
    "g.head(10)"
   ]
  },
  {
   "cell_type": "code",
   "execution_count": 87,
   "metadata": {
    "collapsed": true
   },
   "outputs": [],
   "source": [
    "df['default_username'] = df['OwnerDisplayName'].apply(lambda x: str(x).find('user') == 0)"
   ]
  },
  {
   "cell_type": "markdown",
   "metadata": {
    "collapsed": true
   },
   "source": [
    "Other ideas\n",
    "\n",
    "* Some sort of TF-IDF type score\n",
    "\n",
    "* The number of previous questions from the user at the time a new question is asked\n",
    "\n",
    "* External parsing of Title with API services (for example, see https://dataskeptic.com/blog/tools-and-techniques/2017/google-cloud-natural-language-api)"
   ]
  },
  {
   "cell_type": "markdown",
   "metadata": {},
   "source": [
    "## Natural Language Processing"
   ]
  },
  {
   "cell_type": "code",
   "execution_count": 90,
   "metadata": {
    "collapsed": true
   },
   "outputs": [],
   "source": [
    "def ends_in_question(s):\n",
    "    s = str(s)\n",
    "    i = s.rfind('?')\n",
    "    if i==-1:\n",
    "        return False\n",
    "    if len(s) - i < 5:\n",
    "        return True\n",
    "    return False"
   ]
  },
  {
   "cell_type": "code",
   "execution_count": 91,
   "metadata": {},
   "outputs": [],
   "source": [
    "df['ends_in_qmark'] = df['Title'].apply(ends_in_question)"
   ]
  },
  {
   "cell_type": "code",
   "execution_count": 93,
   "metadata": {
    "collapsed": true
   },
   "outputs": [],
   "source": [
    "del df['Title']\n",
    "del df['OwnerDisplayName']\n",
    "del df['OwnerUserId']"
   ]
  },
  {
   "cell_type": "markdown",
   "metadata": {
    "collapsed": true
   },
   "source": [
    "# Further work\n",
    "\n",
    "* More tag based features\n",
    "\n",
    "* Accounting for Google organic results\n"
   ]
  },
  {
   "cell_type": "markdown",
   "metadata": {},
   "source": [
    "## Model Building and Evaluation"
   ]
  },
  {
   "cell_type": "code",
   "execution_count": 94,
   "metadata": {},
   "outputs": [
    {
     "data": {
      "image/png": "[encoded data removed]",
      "text/plain": [
       "<matplotlib.figure.Figure at 0x128091b00>"
      ]
     },
     "metadata": {},
     "output_type": "display_data"
    }
   ],
   "source": [
    "g = pd.DataFrame(df.groupby(['ViewCount'])['d7'].count())\n",
    "g.reset_index(inplace=True)\n",
    "g['ViewCount'] = g['ViewCount'].astype(int)\n",
    "g.sort_values('ViewCount', inplace=True)\n",
    "g.columns = ['ViewCount', 'frequency']\n",
    "\n",
    "plt.figure(figsize=(15,5))\n",
    "plt.plot(g['ViewCount'][1:1000], g['frequency'][1:1000])\n",
    "plt.ylabel('Frequency')\n",
    "plt.xlabel('ViewCount')\n",
    "plt.title('Histogram of ViewCount')\n",
    "plt.show()"
   ]
  },
  {
   "cell_type": "code",
   "execution_count": 95,
   "metadata": {
    "collapsed": true
   },
   "outputs": [],
   "source": [
    "df['v100'] = df['ViewCount'] > 100"
   ]
  },
  {
   "cell_type": "code",
   "execution_count": 96,
   "metadata": {
    "collapsed": true
   },
   "outputs": [],
   "source": [
    "kf = KFold(n_splits=5, random_state=None, shuffle=False)"
   ]
  },
  {
   "cell_type": "code",
   "execution_count": 97,
   "metadata": {
    "collapsed": true
   },
   "outputs": [],
   "source": [
    "features = df.columns.tolist()"
   ]
  },
  {
   "cell_type": "code",
   "execution_count": 98,
   "metadata": {
    "collapsed": true
   },
   "outputs": [],
   "source": [
    "features.remove('ViewCount')"
   ]
  },
  {
   "cell_type": "code",
   "execution_count": 99,
   "metadata": {
    "collapsed": true
   },
   "outputs": [],
   "source": [
    "features.remove('v100')"
   ]
  },
  {
   "cell_type": "code",
   "execution_count": 100,
   "metadata": {},
   "outputs": [
    {
     "name": "stdout",
     "output_type": "stream",
     "text": [
      "['tc_0', 'tc_1', 'tc_2', 'tc_3', 'tc_4', 'tc_5', 'tag_r', 'tag_regression', 'tag_machine-learning', 'tag_probability', 'tag_time-series', 'tag_hypothesis-testing', 'tag_distributions', 'tag_self-study', 'tag_correlation', 'tag_bayesian', 'tag_anova', 'tag_classification', 'tag_logistic', 'tag_statistical-significance', 'tag_clustering', 'tag_normal-distribution', 'tag_neural-networks', 'tag_confidence-interval', 'tag_mathematical-statistics', 'dow_0', 'dow_1', 'dow_2', 'dow_3', 'dow_4', 'dow_5', 'dow_6', 'hod_0', 'hod_1', 'hod_2', 'hod_3', 'hod_4', 'hod_5', 'hod_6', 'hod_7', 'hod_8', 'hod_9', 'hod_10', 'hod_11', 'hod_12', 'hod_13', 'hod_14', 'hod_15', 'hod_16', 'hod_17', 'hod_18', 'hod_19', 'hod_20', 'hod_21', 'hod_22', 'hod_23', 'd7', 'd30', 'd60', 'd90p', 'title_len', 'body_len', 'body_newline_count', 'amt_html', 'has_link', 'default_username', 'ends_in_qmark']\n"
     ]
    }
   ],
   "source": [
    "print(features)"
   ]
  },
  {
   "cell_type": "code",
   "execution_count": 101,
   "metadata": {
    "collapsed": true
   },
   "outputs": [],
   "source": [
    "df = df.fillna(0)"
   ]
  },
  {
   "cell_type": "code",
   "execution_count": 102,
   "metadata": {
    "collapsed": true
   },
   "outputs": [],
   "source": [
    "X = df[features]\n",
    "y = df['v100']"
   ]
  },
  {
   "cell_type": "code",
   "execution_count": 103,
   "metadata": {},
   "outputs": [
    {
     "data": {
      "text/plain": [
       "(206316, 69)"
      ]
     },
     "execution_count": 103,
     "metadata": {},
     "output_type": "execute_result"
    }
   ],
   "source": [
    "df.shape"
   ]
  },
  {
   "cell_type": "code",
   "execution_count": 104,
   "metadata": {
    "collapsed": true
   },
   "outputs": [],
   "source": [
    "for train_index, test_index in kf.split(df):\n",
    "    X_train, X_test = X.iloc[train_index], X.iloc[test_index]\n",
    "    y_train, y_test = y[train_index], y[test_index]\n",
    "    rf = RandomForestClassifier()\n",
    "    rf.fit(X_train, y_train)\n",
    "    preds = rf.predict(X_test)"
   ]
  },
  {
   "cell_type": "code",
   "execution_count": 105,
   "metadata": {
    "collapsed": true
   },
   "outputs": [],
   "source": [
    "def plot_confusion_matrix(cm, classes,\n",
    "                          normalize=False,\n",
    "                          title='Confusion matrix',\n",
    "                          cmap=plt.cm.Blues):\n",
    "    \"\"\"\n",
    "    This function prints and plots the confusion matrix.\n",
    "    Normalization can be applied by setting `normalize=True`.\n",
    "    \"\"\"\n",
    "    if normalize:\n",
    "        cm = cm.astype('float') / cm.sum(axis=1)[:, np.newaxis]\n",
    "        print(\"Normalized confusion matrix\")\n",
    "    else:\n",
    "        print('Confusion matrix, without normalization')\n",
    "\n",
    "    print(cm)\n",
    "\n",
    "    plt.imshow(cm, interpolation='nearest', cmap=cmap)\n",
    "    plt.title(title)\n",
    "    plt.colorbar()\n",
    "    tick_marks = np.arange(len(classes))\n",
    "    plt.xticks(tick_marks, classes, rotation=45)\n",
    "    plt.yticks(tick_marks, classes)\n",
    "\n",
    "    fmt = '.2f' if normalize else 'd'\n",
    "    thresh = cm.max() / 2.\n",
    "    for i, j in itertools.product(range(cm.shape[0]), range(cm.shape[1])):\n",
    "        plt.text(j, i, format(cm[i, j], fmt),\n",
    "                 horizontalalignment=\"center\",\n",
    "                 color=\"white\" if cm[i, j] > thresh else \"black\")\n",
    "\n",
    "    plt.tight_layout()\n",
    "    plt.ylabel('True label')\n",
    "    plt.xlabel('Predicted label')"
   ]
  },
  {
   "cell_type": "code",
   "execution_count": 106,
   "metadata": {},
   "outputs": [
    {
     "name": "stdout",
     "output_type": "stream",
     "text": [
      "Confusion matrix, without normalization\n",
      "[[22093 15211]\n",
      " [  738  3221]]\n",
      "Normalized confusion matrix\n",
      "[[ 0.59  0.41]\n",
      " [ 0.19  0.81]]\n"
     ]
    },
    {
     "data": {
      "image/png": "[encoded data removed]",
      "text/plain": [
       "<matplotlib.figure.Figure at 0x126e58908>"
      ]
     },
     "metadata": {},
     "output_type": "display_data"
    },
    {
     "data": {
      "image/png": "[encoded data removed]",
      "text/plain": [
       "<matplotlib.figure.Figure at 0x127aaa358>"
      ]
     },
     "metadata": {},
     "output_type": "display_data"
    }
   ],
   "source": [
    "class_names = ['100views', 'less']\n",
    "\n",
    "cnf_matrix = confusion_matrix(y_test, preds, labels=None, sample_weight=None)\n",
    "np.set_printoptions(precision=2)\n",
    "\n",
    "plt.figure()\n",
    "plot_confusion_matrix(cnf_matrix, classes=class_names,\n",
    "                      title='Confusion matrix, without normalization')\n",
    "\n",
    "plt.figure()\n",
    "plot_confusion_matrix(cnf_matrix, classes=class_names, normalize=True,\n",
    "                      title='Normalized confusion matrix')\n",
    "\n",
    "plt.show()"
   ]
  },
  {
   "cell_type": "code",
   "execution_count": 108,
   "metadata": {},
   "outputs": [
    {
     "data": {
      "image/png": "[encoded data removed]",
      "text/plain": [
       "<matplotlib.figure.Figure at 0x127891da0>"
      ]
     },
     "metadata": {},
     "output_type": "display_data"
    }
   ],
   "source": [
    "fi = rf.feature_importances_\n",
    "dr = pd.DataFrame({'importance': fi})\n",
    "dr.sort_values('importance', inplace=True, ascending=True)\n",
    "dr.index = np.arange(dr.shape[0])\n",
    "plt.figure(figsize=(5,15))\n",
    "plt.barh(dr.index, dr['importance'])\n",
    "x = np.arange(len(features))\n",
    "plt.yticks(x,features)\n",
    "plt.show()"
   ]
  }
 ],
 "metadata": {
  "kernelspec": {
   "display_name": "Python 3",
   "language": "python",
   "name": "python3"
  },
  "language_info": {
   "codemirror_mode": {
    "name": "ipython",
    "version": 3
   },
   "file_extension": ".py",
   "mimetype": "text/x-python",
   "name": "python",
   "nbconvert_exporter": "python",
   "pygments_lexer": "ipython3",
   "version": "3.5.2"
  }
 },
 "nbformat": 4,
 "nbformat_minor": 2
}
